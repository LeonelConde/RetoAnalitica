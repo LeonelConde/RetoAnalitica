{
 "cells": [
  {
   "cell_type": "markdown",
   "metadata": {
    "toc": true
   },
   "source": [
    "<h1>Table of Contents<span class=\"tocSkip\"></span></h1>\n",
    "<div class=\"toc\"><ul class=\"toc-item\"><li><span><a href=\"#Library-Import-&amp;-Settings\" data-toc-modified-id=\"Library-Import-&amp;-Settings-1\">Library Import &amp; Settings</a></span></li><li><span><a href=\"#Load-Data-into-Pandas\" data-toc-modified-id=\"Load-Data-into-Pandas-2\">Load Data into Pandas</a></span></li><li><span><a href=\"#Basic-Properties-of-the-Dataset\" data-toc-modified-id=\"Basic-Properties-of-the-Dataset-3\">Basic Properties of the Dataset</a></span></li><li><span><a href=\"#Exploring-Column-Summaries\" data-toc-modified-id=\"Exploring-Column-Summaries-4\">Exploring Column Summaries</a></span><ul class=\"toc-item\"><li><span><a href=\"#Summary-for-Categorical-Features\" data-toc-modified-id=\"Summary-for-Categorical-Features-4.1\">Summary for Categorical Features</a></span></li><li><span><a href=\"#Summary-for-Numerical-Features\" data-toc-modified-id=\"Summary-for-Numerical-Features-4.2\">Summary for Numerical Features</a></span></li></ul></li><li><span><a href=\"#Exploring-Text-Categories\" data-toc-modified-id=\"Exploring-Text-Categories-5\">Exploring Text Categories</a></span><ul class=\"toc-item\"><li><span><a href=\"#Visualizing-Frequency-Distributions\" data-toc-modified-id=\"Visualizing-Frequency-Distributions-5.1\">Visualizing Frequency Distributions</a></span></li></ul></li><li><span><a href=\"#Exploring-Word-Frequencies\" data-toc-modified-id=\"Exploring-Word-Frequencies-6\">Exploring Word Frequencies</a></span><ul class=\"toc-item\"><li><span><a href=\"#Creating-a-List-of-Tokens-from-a-List-of-Documents\" data-toc-modified-id=\"Creating-a-List-of-Tokens-from-a-List-of-Documents-6.1\">Creating a List of Tokens from a List of Documents</a></span></li><li><span><a href=\"#Counting-Frequencies-with-a-Counter\" data-toc-modified-id=\"Counting-Frequencies-with-a-Counter-6.2\">Counting Frequencies with a Counter</a></span></li><li><span><a href=\"#Using-Word-Clouds\" data-toc-modified-id=\"Using-Word-Clouds-6.3\">Using Word Clouds</a></span></li></ul></li><li><span><a href=\"#Exploring-Text-Complexity\" data-toc-modified-id=\"Exploring-Text-Complexity-7\">Exploring Text Complexity</a></span></li></ul></div>"
   ]
  },
  {
   "cell_type": "markdown",
   "metadata": {},
   "source": [
    "# Modern Text Mining with Python (Part 2 of 5):<br>Data Exploration with Pandas\n",
    "\n",
    "This notebook contains the code examples for the blog post on [Medium.com](https://medium.com/@datanizing/modern-text-mining-with-python-part-2-of-5-data-exploration-with-pandas-ee3456cf6a4?source=friends_link&sk=15387fd5091b35359cef54af3ad7ae6f).\n",
    "\n",
    "To get it running, you will need the SQLite Database `selfposts.db`, which was created in the first notebook of this series."
   ]
  },
  {
   "cell_type": "markdown",
   "metadata": {},
   "source": [
    "## Library Import & Settings"
   ]
  },
  {
   "cell_type": "code",
   "execution_count": 1,
   "metadata": {},
   "outputs": [],
   "source": [
    "# filter warnings on depreciation etc.\n",
    "import warnings\n",
    "warnings.filterwarnings(\"ignore\")"
   ]
  },
  {
   "cell_type": "code",
   "execution_count": 2,
   "metadata": {},
   "outputs": [],
   "source": [
    "# import pandas, numpy\n",
    "import pandas as pd\n",
    "import numpy as np\n",
    "\n",
    "# adjust pandas display\n",
    "pd.options.display.max_columns = 30\n",
    "pd.options.display.max_rows = 100\n",
    "pd.options.display.float_format = '{:.2f}'.format\n",
    "pd.options.display.precision = 2\n",
    "pd.options.display.max_colwidth = -1"
   ]
  },
  {
   "cell_type": "code",
   "execution_count": 3,
   "metadata": {
    "ExecuteTime": {
     "end_time": "2019-01-08T18:00:22.914806Z",
     "start_time": "2019-01-08T18:00:22.893819Z"
    }
   },
   "outputs": [],
   "source": [
    "# Import matplotlib and seaborn and adjust some defaults\n",
    "%matplotlib inline\n",
    "%config InlineBackend.figure_format = 'svg'\n",
    "\n",
    "from matplotlib import pyplot as plt\n",
    "plt.rcParams['figure.dpi'] = 100\n",
    "\n",
    "import seaborn as sns\n",
    "sns.set_style(\"whitegrid\")"
   ]
  },
  {
   "cell_type": "markdown",
   "metadata": {},
   "source": [
    "## Load Data into Pandas"
   ]
  },
  {
   "cell_type": "code",
   "execution_count": 4,
   "metadata": {
    "ExecuteTime": {
     "end_time": "2019-01-08T18:00:48.339799Z",
     "start_time": "2019-01-08T18:00:47.931803Z"
    }
   },
   "outputs": [],
   "source": [
    "import sqlite3\n",
    "\n",
    "sql = \"\"\"\n",
    "SELECT p.*, \n",
    "       c.text as plaintext, c.user_location as location\n",
    "FROM posts_nlp p, categories c\n",
    "WHERE p.user_name = c.user_name\n",
    "\"\"\"\n",
    "\n",
    "with sqlite3.connect('selfposts.db') as con:\n",
    "    df = pd.read_sql_query(sql, con)"
   ]
  },
  {
   "cell_type": "markdown",
   "metadata": {},
   "source": [
    "## Basic Properties of the Dataset"
   ]
  },
  {
   "cell_type": "code",
   "execution_count": 5,
   "metadata": {
    "scrolled": true
   },
   "outputs": [
    {
     "data": {
      "text/plain": [
       "index                  int64  \n",
       "user_name              object \n",
       "user_location          object \n",
       "user_description       object \n",
       "user_created           object \n",
       "user_followers         int64  \n",
       "user_friends           int64  \n",
       "user_favourites        int64  \n",
       "user_verified          int64  \n",
       "date                   object \n",
       "text                   object \n",
       "hashtags               object \n",
       "source                 object \n",
       "is_retweet             int64  \n",
       "selftext_clean         object \n",
       "selftext_lemma         object \n",
       "selftext_nouns         object \n",
       "selftext_adjectives    object \n",
       "selftext_verbs         object \n",
       "selftext_nav           object \n",
       "no_tokens              float64\n",
       "plaintext              object \n",
       "location               object \n",
       "dtype: object"
      ]
     },
     "execution_count": 5,
     "metadata": {},
     "output_type": "execute_result"
    }
   ],
   "source": [
    "# list column names and datatypes\n",
    "df.dtypes"
   ]
  },
  {
   "cell_type": "code",
   "execution_count": 6,
   "metadata": {},
   "outputs": [
    {
     "data": {
      "text/html": [
       "<div>\n",
       "<style scoped>\n",
       "    .dataframe tbody tr th:only-of-type {\n",
       "        vertical-align: middle;\n",
       "    }\n",
       "\n",
       "    .dataframe tbody tr th {\n",
       "        vertical-align: top;\n",
       "    }\n",
       "\n",
       "    .dataframe thead th {\n",
       "        text-align: right;\n",
       "    }\n",
       "</style>\n",
       "<table border=\"1\" class=\"dataframe\">\n",
       "  <thead>\n",
       "    <tr style=\"text-align: right;\">\n",
       "      <th></th>\n",
       "      <th>user_name</th>\n",
       "      <th>user_location</th>\n",
       "      <th>user_description</th>\n",
       "      <th>selftext_clean</th>\n",
       "      <th>hashtags</th>\n",
       "    </tr>\n",
       "  </thead>\n",
       "  <tbody>\n",
       "    <tr>\n",
       "      <th>618045</th>\n",
       "      <td>covidnews.ch</td>\n",
       "      <td>Switzerland</td>\n",
       "      <td>Coronavirus Statistics, Information &amp; News</td>\n",
       "      <td>#CoronaInfoCH #COVID19 #corona #uk \\nCoronavirus: 45 more cases confirmed in ‘...\\n</td>\n",
       "      <td>['CoronaInfoCH', 'COVID19', 'corona', 'uk']</td>\n",
       "    </tr>\n",
       "    <tr>\n",
       "      <th>452608</th>\n",
       "      <td>Musafir Namah</td>\n",
       "      <td>New York, US &amp; Delhi, India</td>\n",
       "      <td>Latest tourism news, views, policy, information, travel tips, inspiration and ideas about India and all that is Indian globally.</td>\n",
       "      <td>#CoronaVirusus Washington mayor says visitors from 27 “high-risk” states must quarantine for two weeks, reports AFP…</td>\n",
       "      <td>['CoronaVirusus']</td>\n",
       "    </tr>\n",
       "  </tbody>\n",
       "</table>\n",
       "</div>"
      ],
      "text/plain": [
       "            user_name                user_location  \\\n",
       "618045  covidnews.ch   Switzerland                   \n",
       "452608  Musafir Namah  New York, US & Delhi, India   \n",
       "\n",
       "                                                                                                                        user_description  \\\n",
       "618045  Coronavirus Statistics, Information & News                                                                                         \n",
       "452608  Latest tourism news, views, policy, information, travel tips, inspiration and ideas about India and all that is Indian globally.   \n",
       "\n",
       "                                                                                                               selftext_clean  \\\n",
       "618045  #CoronaInfoCH #COVID19 #corona #uk \\nCoronavirus: 45 more cases confirmed in ‘...\\n                                     \n",
       "452608  #CoronaVirusus Washington mayor says visitors from 27 “high-risk” states must quarantine for two weeks, reports AFP…    \n",
       "\n",
       "                                           hashtags  \n",
       "618045  ['CoronaInfoCH', 'COVID19', 'corona', 'uk']  \n",
       "452608  ['CoronaVirusus']                            "
      ]
     },
     "execution_count": 6,
     "metadata": {},
     "output_type": "execute_result"
    }
   ],
   "source": [
    "# select a sample of some data frame columns\n",
    "df[['user_name', 'user_location', 'user_description', 'selftext_clean','hashtags']] \\\n",
    "  .sample(2, random_state=42)"
   ]
  },
  {
   "cell_type": "code",
   "execution_count": 7,
   "metadata": {},
   "outputs": [
    {
     "data": {
      "text/plain": [
       "732530"
      ]
     },
     "execution_count": 7,
     "metadata": {},
     "output_type": "execute_result"
    }
   ],
   "source": [
    "# length of a dataframe\n",
    "len(df)"
   ]
  },
  {
   "cell_type": "code",
   "execution_count": 8,
   "metadata": {},
   "outputs": [
    {
     "data": {
      "text/plain": [
       "index                  732530\n",
       "user_name              732530\n",
       "user_location          578687\n",
       "user_description       716456\n",
       "user_created           732530\n",
       "user_followers         732530\n",
       "user_friends           732530\n",
       "user_favourites        732530\n",
       "user_verified          732530\n",
       "date                   732530\n",
       "text                   732530\n",
       "hashtags               524971\n",
       "source                 732478\n",
       "is_retweet             732530\n",
       "selftext_clean         732530\n",
       "selftext_lemma         732530\n",
       "selftext_nouns         732530\n",
       "selftext_adjectives    732530\n",
       "selftext_verbs         732530\n",
       "selftext_nav           732530\n",
       "no_tokens              732530\n",
       "plaintext              732530\n",
       "location               578687\n",
       "dtype: int64"
      ]
     },
     "execution_count": 8,
     "metadata": {},
     "output_type": "execute_result"
    }
   ],
   "source": [
    "# number of values per column\n",
    "df.count()"
   ]
  },
  {
   "cell_type": "code",
   "execution_count": 9,
   "metadata": {
    "scrolled": true
   },
   "outputs": [
    {
     "name": "stdout",
     "output_type": "stream",
     "text": [
      "<class 'pandas.core.frame.DataFrame'>\n",
      "RangeIndex: 732530 entries, 0 to 732529\n",
      "Data columns (total 23 columns):\n",
      " #   Column               Non-Null Count   Dtype  \n",
      "---  ------               --------------   -----  \n",
      " 0   index                732530 non-null  int64  \n",
      " 1   user_name            732530 non-null  object \n",
      " 2   user_location        578687 non-null  object \n",
      " 3   user_description     716456 non-null  object \n",
      " 4   user_created         732530 non-null  object \n",
      " 5   user_followers       732530 non-null  int64  \n",
      " 6   user_friends         732530 non-null  int64  \n",
      " 7   user_favourites      732530 non-null  int64  \n",
      " 8   user_verified        732530 non-null  int64  \n",
      " 9   date                 732530 non-null  object \n",
      " 10  text                 732530 non-null  object \n",
      " 11  hashtags             524971 non-null  object \n",
      " 12  source               732478 non-null  object \n",
      " 13  is_retweet           732530 non-null  int64  \n",
      " 14  selftext_clean       732530 non-null  object \n",
      " 15  selftext_lemma       732530 non-null  object \n",
      " 16  selftext_nouns       732530 non-null  object \n",
      " 17  selftext_adjectives  732530 non-null  object \n",
      " 18  selftext_verbs       732530 non-null  object \n",
      " 19  selftext_nav         732530 non-null  object \n",
      " 20  no_tokens            732530 non-null  float64\n",
      " 21  plaintext            732530 non-null  object \n",
      " 22  location             578687 non-null  object \n",
      "dtypes: float64(1), int64(6), object(16)\n",
      "memory usage: 1.6 GB\n"
     ]
    }
   ],
   "source": [
    "# size info, including memory consumption\n",
    "df.info(memory_usage='deep')"
   ]
  },
  {
   "cell_type": "markdown",
   "metadata": {},
   "source": [
    "## Exploring Column Summaries\n",
    "\n",
    "The pandas `describe` method computes statistical summaries for each of the columns of a dataframe. The results are different for categorical and numerical features.\n",
    "\n",
    "### Summary for Categorical Features"
   ]
  },
  {
   "cell_type": "code",
   "execution_count": 10,
   "metadata": {},
   "outputs": [
    {
     "data": {
      "text/plain": [
       "['index',\n",
       " 'user_name',\n",
       " 'user_location',\n",
       " 'user_description',\n",
       " 'user_created',\n",
       " 'user_followers',\n",
       " 'user_friends',\n",
       " 'user_favourites',\n",
       " 'user_verified',\n",
       " 'date',\n",
       " 'text',\n",
       " 'hashtags',\n",
       " 'source',\n",
       " 'is_retweet',\n",
       " 'no_tokens',\n",
       " 'plaintext',\n",
       " 'location']"
      ]
     },
     "execution_count": 10,
     "metadata": {},
     "output_type": "execute_result"
    }
   ],
   "source": [
    "columns = [col for col in df.columns if not col.startswith('self')]\n",
    "columns"
   ]
  },
  {
   "cell_type": "code",
   "execution_count": 11,
   "metadata": {},
   "outputs": [
    {
     "data": {
      "text/html": [
       "<div>\n",
       "<style scoped>\n",
       "    .dataframe tbody tr th:only-of-type {\n",
       "        vertical-align: middle;\n",
       "    }\n",
       "\n",
       "    .dataframe tbody tr th {\n",
       "        vertical-align: top;\n",
       "    }\n",
       "\n",
       "    .dataframe thead th {\n",
       "        text-align: right;\n",
       "    }\n",
       "</style>\n",
       "<table border=\"1\" class=\"dataframe\">\n",
       "  <thead>\n",
       "    <tr style=\"text-align: right;\">\n",
       "      <th></th>\n",
       "      <th>count</th>\n",
       "      <th>unique</th>\n",
       "      <th>top</th>\n",
       "      <th>freq</th>\n",
       "    </tr>\n",
       "  </thead>\n",
       "  <tbody>\n",
       "    <tr>\n",
       "      <th>plaintext</th>\n",
       "      <td>732530</td>\n",
       "      <td>74312</td>\n",
       "      <td>ALERT: Meadows says he’s ‘not optimistic’ COVID-19 relief deal will\\nbe reached soon - Global Pandemic News |… https://t.co/EG5fPOIZ7D</td>\n",
       "      <td>312</td>\n",
       "    </tr>\n",
       "    <tr>\n",
       "      <th>user_location</th>\n",
       "      <td>578687</td>\n",
       "      <td>14622</td>\n",
       "      <td>WORLDWIDE</td>\n",
       "      <td>98500</td>\n",
       "    </tr>\n",
       "    <tr>\n",
       "      <th>user_name</th>\n",
       "      <td>732530</td>\n",
       "      <td>44853</td>\n",
       "      <td>GlobalPandemic.NET</td>\n",
       "      <td>97344</td>\n",
       "    </tr>\n",
       "    <tr>\n",
       "      <th>user_description</th>\n",
       "      <td>716456</td>\n",
       "      <td>42690</td>\n",
       "      <td>Breaking News &amp; Critical Information to SURVIVE the Coronavirus Outbreak / Civil Unrest</td>\n",
       "      <td>97344</td>\n",
       "    </tr>\n",
       "    <tr>\n",
       "      <th>hashtags</th>\n",
       "      <td>524971</td>\n",
       "      <td>23445</td>\n",
       "      <td>['COVID19']</td>\n",
       "      <td>108628</td>\n",
       "    </tr>\n",
       "    <tr>\n",
       "      <th>source</th>\n",
       "      <td>732478</td>\n",
       "      <td>450</td>\n",
       "      <td>Twitter Web App</td>\n",
       "      <td>187371</td>\n",
       "    </tr>\n",
       "  </tbody>\n",
       "</table>\n",
       "</div>"
      ],
      "text/plain": [
       "                   count unique  \\\n",
       "plaintext         732530  74312   \n",
       "user_location     578687  14622   \n",
       "user_name         732530  44853   \n",
       "user_description  716456  42690   \n",
       "hashtags          524971  23445   \n",
       "source            732478  450     \n",
       "\n",
       "                                                                                                                                                     top  \\\n",
       "plaintext         ALERT: Meadows says he’s ‘not optimistic’ COVID-19 relief deal will\\nbe reached soon - Global Pandemic News |… https://t.co/EG5fPOIZ7D   \n",
       "user_location     WORLDWIDE                                                                                                                                \n",
       "user_name         GlobalPandemic.NET                                                                                                                       \n",
       "user_description  Breaking News & Critical Information to SURVIVE the Coronavirus Outbreak / Civil Unrest                                                  \n",
       "hashtags          ['COVID19']                                                                                                                              \n",
       "source            Twitter Web App                                                                                                                          \n",
       "\n",
       "                    freq  \n",
       "plaintext         312     \n",
       "user_location     98500   \n",
       "user_name         97344   \n",
       "user_description  97344   \n",
       "hashtags          108628  \n",
       "source            187371  "
      ]
     },
     "execution_count": 11,
     "metadata": {},
     "output_type": "execute_result"
    }
   ],
   "source": [
    "# describe categorical columns of type np.object \n",
    "df[['plaintext', 'user_location', 'user_name','user_description','hashtags','source']] \\\n",
    "  .describe(include=np.object) \\\n",
    "  .transpose()"
   ]
  },
  {
   "cell_type": "code",
   "execution_count": 12,
   "metadata": {
    "ExecuteTime": {
     "end_time": "2019-01-08T17:59:28.384807Z",
     "start_time": "2019-01-08T17:59:27.304806Z"
    }
   },
   "outputs": [
    {
     "data": {
      "text/plain": [
       "GlobalPandemic.NET                         97344\n",
       "covidnews.ch                               57121\n",
       "Coronavirus Updates                        32761\n",
       "Open Letters                               31329\n",
       "Hindustan Times                            15625\n",
       "IAM Platform                               14400\n",
       "Coronavirus Updates - Alexander Higgins    12544\n",
       "Paperbirds_Coronavirus                     11236\n",
       "OTV                                        10000\n",
       "Blood Donors India                         9801 \n",
       "Name: user_name, dtype: int64"
      ]
     },
     "execution_count": 12,
     "metadata": {},
     "output_type": "execute_result"
    }
   ],
   "source": [
    "df['user_name'].value_counts()[:10]"
   ]
  },
  {
   "cell_type": "markdown",
   "metadata": {},
   "source": [
    "### Summary for Numerical Features"
   ]
  },
  {
   "cell_type": "code",
   "execution_count": 13,
   "metadata": {
    "scrolled": true
   },
   "outputs": [
    {
     "data": {
      "text/html": [
       "<div>\n",
       "<style scoped>\n",
       "    .dataframe tbody tr th:only-of-type {\n",
       "        vertical-align: middle;\n",
       "    }\n",
       "\n",
       "    .dataframe tbody tr th {\n",
       "        vertical-align: top;\n",
       "    }\n",
       "\n",
       "    .dataframe thead th {\n",
       "        text-align: right;\n",
       "    }\n",
       "</style>\n",
       "<table border=\"1\" class=\"dataframe\">\n",
       "  <thead>\n",
       "    <tr style=\"text-align: right;\">\n",
       "      <th></th>\n",
       "      <th>count</th>\n",
       "      <th>mean</th>\n",
       "      <th>std</th>\n",
       "      <th>min</th>\n",
       "      <th>25%</th>\n",
       "      <th>50%</th>\n",
       "      <th>75%</th>\n",
       "      <th>max</th>\n",
       "    </tr>\n",
       "  </thead>\n",
       "  <tbody>\n",
       "    <tr>\n",
       "      <th>index</th>\n",
       "      <td>732530.00</td>\n",
       "      <td>33567.75</td>\n",
       "      <td>21429.19</td>\n",
       "      <td>0.00</td>\n",
       "      <td>15140.00</td>\n",
       "      <td>30184.00</td>\n",
       "      <td>51586.75</td>\n",
       "      <td>74435.00</td>\n",
       "    </tr>\n",
       "    <tr>\n",
       "      <th>user_followers</th>\n",
       "      <td>732530.00</td>\n",
       "      <td>546190.63</td>\n",
       "      <td>1882713.80</td>\n",
       "      <td>0.00</td>\n",
       "      <td>433.00</td>\n",
       "      <td>10661.00</td>\n",
       "      <td>26121.00</td>\n",
       "      <td>13892841.00</td>\n",
       "    </tr>\n",
       "    <tr>\n",
       "      <th>user_friends</th>\n",
       "      <td>732530.00</td>\n",
       "      <td>5201.01</td>\n",
       "      <td>10563.59</td>\n",
       "      <td>0.00</td>\n",
       "      <td>64.00</td>\n",
       "      <td>591.00</td>\n",
       "      <td>3323.00</td>\n",
       "      <td>497363.00</td>\n",
       "    </tr>\n",
       "    <tr>\n",
       "      <th>user_favourites</th>\n",
       "      <td>732530.00</td>\n",
       "      <td>9825.63</td>\n",
       "      <td>40543.30</td>\n",
       "      <td>0.00</td>\n",
       "      <td>2.00</td>\n",
       "      <td>149.00</td>\n",
       "      <td>3130.75</td>\n",
       "      <td>2047197.00</td>\n",
       "    </tr>\n",
       "    <tr>\n",
       "      <th>user_verified</th>\n",
       "      <td>732530.00</td>\n",
       "      <td>0.28</td>\n",
       "      <td>0.45</td>\n",
       "      <td>0.00</td>\n",
       "      <td>0.00</td>\n",
       "      <td>0.00</td>\n",
       "      <td>1.00</td>\n",
       "      <td>1.00</td>\n",
       "    </tr>\n",
       "    <tr>\n",
       "      <th>is_retweet</th>\n",
       "      <td>732530.00</td>\n",
       "      <td>0.00</td>\n",
       "      <td>0.00</td>\n",
       "      <td>0.00</td>\n",
       "      <td>0.00</td>\n",
       "      <td>0.00</td>\n",
       "      <td>0.00</td>\n",
       "      <td>0.00</td>\n",
       "    </tr>\n",
       "    <tr>\n",
       "      <th>no_tokens</th>\n",
       "      <td>732530.00</td>\n",
       "      <td>21.64</td>\n",
       "      <td>4.42</td>\n",
       "      <td>1.00</td>\n",
       "      <td>19.00</td>\n",
       "      <td>22.00</td>\n",
       "      <td>24.00</td>\n",
       "      <td>76.00</td>\n",
       "    </tr>\n",
       "  </tbody>\n",
       "</table>\n",
       "</div>"
      ],
      "text/plain": [
       "                    count      mean        std  min      25%      50%  \\\n",
       "index           732530.00 33567.75  21429.19   0.00 15140.00 30184.00   \n",
       "user_followers  732530.00 546190.63 1882713.80 0.00 433.00   10661.00   \n",
       "user_friends    732530.00 5201.01   10563.59   0.00 64.00    591.00     \n",
       "user_favourites 732530.00 9825.63   40543.30   0.00 2.00     149.00     \n",
       "user_verified   732530.00 0.28      0.45       0.00 0.00     0.00       \n",
       "is_retweet      732530.00 0.00      0.00       0.00 0.00     0.00       \n",
       "no_tokens       732530.00 21.64     4.42       1.00 19.00    22.00      \n",
       "\n",
       "                     75%         max  \n",
       "index           51586.75 74435.00     \n",
       "user_followers  26121.00 13892841.00  \n",
       "user_friends    3323.00  497363.00    \n",
       "user_favourites 3130.75  2047197.00   \n",
       "user_verified   1.00     1.00         \n",
       "is_retweet      0.00     0.00         \n",
       "no_tokens       24.00    76.00        "
      ]
     },
     "execution_count": 13,
     "metadata": {},
     "output_type": "execute_result"
    }
   ],
   "source": [
    "# describe numerical columns\n",
    "df.describe().transpose()"
   ]
  },
  {
   "cell_type": "markdown",
   "metadata": {},
   "source": [
    "## Exploring Text Categories"
   ]
  },
  {
   "cell_type": "code",
   "execution_count": 14,
   "metadata": {
    "ExecuteTime": {
     "end_time": "2019-01-08T15:40:17.864384Z",
     "start_time": "2019-01-08T15:40:17.772382Z"
    }
   },
   "outputs": [
    {
     "data": {
      "text/plain": [
       "23445"
      ]
     },
     "execution_count": 14,
     "metadata": {},
     "output_type": "execute_result"
    }
   ],
   "source": [
    "# number of unique values = count distinct\n",
    "df['hashtags'].nunique()"
   ]
  },
  {
   "cell_type": "code",
   "execution_count": 15,
   "metadata": {
    "scrolled": false
   },
   "outputs": [
    {
     "data": {
      "text/html": [
       "<div>\n",
       "<style scoped>\n",
       "    .dataframe tbody tr th:only-of-type {\n",
       "        vertical-align: middle;\n",
       "    }\n",
       "\n",
       "    .dataframe tbody tr th {\n",
       "        vertical-align: top;\n",
       "    }\n",
       "\n",
       "    .dataframe thead th {\n",
       "        text-align: right;\n",
       "    }\n",
       "</style>\n",
       "<table border=\"1\" class=\"dataframe\">\n",
       "  <thead>\n",
       "    <tr style=\"text-align: right;\">\n",
       "      <th></th>\n",
       "      <th>num_hashtags</th>\n",
       "      <th>num_posts</th>\n",
       "    </tr>\n",
       "    <tr>\n",
       "      <th>source</th>\n",
       "      <th></th>\n",
       "      <th></th>\n",
       "    </tr>\n",
       "  </thead>\n",
       "  <tbody>\n",
       "    <tr>\n",
       "      <th>Twitter Web App</th>\n",
       "      <td>8114</td>\n",
       "      <td>187371</td>\n",
       "    </tr>\n",
       "    <tr>\n",
       "      <th>Twitter for Android</th>\n",
       "      <td>6060</td>\n",
       "      <td>61164</td>\n",
       "    </tr>\n",
       "    <tr>\n",
       "      <th>Twitter for iPhone</th>\n",
       "      <td>5393</td>\n",
       "      <td>43169</td>\n",
       "    </tr>\n",
       "    <tr>\n",
       "      <th>TweetDeck</th>\n",
       "      <td>1175</td>\n",
       "      <td>57861</td>\n",
       "    </tr>\n",
       "    <tr>\n",
       "      <th>Hootsuite Inc.</th>\n",
       "      <td>1012</td>\n",
       "      <td>11126</td>\n",
       "    </tr>\n",
       "  </tbody>\n",
       "</table>\n",
       "</div>"
      ],
      "text/plain": [
       "                     num_hashtags  num_posts\n",
       "source                                      \n",
       "Twitter Web App      8114          187371   \n",
       "Twitter for Android  6060          61164    \n",
       "Twitter for iPhone   5393          43169    \n",
       "TweetDeck            1175          57861    \n",
       "Hootsuite Inc.       1012          11126    "
      ]
     },
     "execution_count": 15,
     "metadata": {},
     "output_type": "execute_result"
    }
   ],
   "source": [
    "# group by category, count distinct subreddits and posts\n",
    "cat_df = df.groupby('source') \\\n",
    "           .agg({'hashtags': pd.Series.nunique,\n",
    "                 'user_name': pd.Series.count}) \\\n",
    "           .rename(columns={'hashtags': 'num_hashtags',\n",
    "                            'user_name': 'num_posts'}) \\\n",
    "           .sort_values('num_hashtags', ascending=False)\n",
    "            \n",
    "# show top 5 records\n",
    "cat_df.head(5)"
   ]
  },
  {
   "cell_type": "code",
   "execution_count": 16,
   "metadata": {
    "ExecuteTime": {
     "end_time": "2019-01-08T15:40:24.554386Z",
     "start_time": "2019-01-08T15:40:24.451390Z"
    },
    "scrolled": true
   },
   "outputs": [
    {
     "data": {
      "text/html": [
       "<div>\n",
       "<style scoped>\n",
       "    .dataframe tbody tr th:only-of-type {\n",
       "        vertical-align: middle;\n",
       "    }\n",
       "\n",
       "    .dataframe tbody tr th {\n",
       "        vertical-align: top;\n",
       "    }\n",
       "\n",
       "    .dataframe thead th {\n",
       "        text-align: right;\n",
       "    }\n",
       "</style>\n",
       "<table border=\"1\" class=\"dataframe\">\n",
       "  <thead>\n",
       "    <tr style=\"text-align: right;\">\n",
       "      <th></th>\n",
       "      <th>num_hashtags</th>\n",
       "      <th>num_posts</th>\n",
       "    </tr>\n",
       "  </thead>\n",
       "  <tbody>\n",
       "    <tr>\n",
       "      <th>count</th>\n",
       "      <td>450.00</td>\n",
       "      <td>450.00</td>\n",
       "    </tr>\n",
       "    <tr>\n",
       "      <th>mean</th>\n",
       "      <td>58.41</td>\n",
       "      <td>1627.73</td>\n",
       "    </tr>\n",
       "    <tr>\n",
       "      <th>std</th>\n",
       "      <td>545.86</td>\n",
       "      <td>11447.15</td>\n",
       "    </tr>\n",
       "    <tr>\n",
       "      <th>min</th>\n",
       "      <td>0.00</td>\n",
       "      <td>1.00</td>\n",
       "    </tr>\n",
       "    <tr>\n",
       "      <th>25%</th>\n",
       "      <td>1.00</td>\n",
       "      <td>1.00</td>\n",
       "    </tr>\n",
       "    <tr>\n",
       "      <th>50%</th>\n",
       "      <td>1.00</td>\n",
       "      <td>8.00</td>\n",
       "    </tr>\n",
       "    <tr>\n",
       "      <th>75%</th>\n",
       "      <td>4.00</td>\n",
       "      <td>64.00</td>\n",
       "    </tr>\n",
       "    <tr>\n",
       "      <th>max</th>\n",
       "      <td>8114.00</td>\n",
       "      <td>187371.00</td>\n",
       "    </tr>\n",
       "  </tbody>\n",
       "</table>\n",
       "</div>"
      ],
      "text/plain": [
       "       num_hashtags  num_posts\n",
       "count 450.00        450.00    \n",
       "mean  58.41         1627.73   \n",
       "std   545.86        11447.15  \n",
       "min   0.00          1.00      \n",
       "25%   1.00          1.00      \n",
       "50%   1.00          8.00      \n",
       "75%   4.00          64.00     \n",
       "max   8114.00       187371.00 "
      ]
     },
     "execution_count": 16,
     "metadata": {},
     "output_type": "execute_result"
    }
   ],
   "source": [
    "cat_df.describe()"
   ]
  },
  {
   "cell_type": "markdown",
   "metadata": {},
   "source": [
    "### Visualizing Frequency Distributions"
   ]
  },
  {
   "cell_type": "code",
   "execution_count": 17,
   "metadata": {},
   "outputs": [
    {
     "data": {
      "image/svg+xml": [
       "<?xml version=\"1.0\" encoding=\"utf-8\" standalone=\"no\"?>\r\n",
       "<!DOCTYPE svg PUBLIC \"-//W3C//DTD SVG 1.1//EN\"\r\n",
       "  \"http://www.w3.org/Graphics/SVG/1.1/DTD/svg11.dtd\">\r\n",
       "<!-- Created with matplotlib (https://matplotlib.org/) -->\r\n",
       "<svg height=\"139.265312pt\" version=\"1.1\" viewBox=\"0 0 405.1125 139.265312\" width=\"405.1125pt\" xmlns=\"http://www.w3.org/2000/svg\" xmlns:xlink=\"http://www.w3.org/1999/xlink\">\r\n",
       " <metadata>\r\n",
       "  <rdf:RDF xmlns:cc=\"http://creativecommons.org/ns#\" xmlns:dc=\"http://purl.org/dc/elements/1.1/\" xmlns:rdf=\"http://www.w3.org/1999/02/22-rdf-syntax-ns#\">\r\n",
       "   <cc:Work>\r\n",
       "    <dc:type rdf:resource=\"http://purl.org/dc/dcmitype/StillImage\"/>\r\n",
       "    <dc:date>2020-10-30T08:45:12.474814</dc:date>\r\n",
       "    <dc:format>image/svg+xml</dc:format>\r\n",
       "    <dc:creator>\r\n",
       "     <cc:Agent>\r\n",
       "      <dc:title>Matplotlib v3.3.2, https://matplotlib.org/</dc:title>\r\n",
       "     </cc:Agent>\r\n",
       "    </dc:creator>\r\n",
       "   </cc:Work>\r\n",
       "  </rdf:RDF>\r\n",
       " </metadata>\r\n",
       " <defs>\r\n",
       "  <style type=\"text/css\">*{stroke-linecap:butt;stroke-linejoin:round;}</style>\r\n",
       " </defs>\r\n",
       " <g id=\"figure_1\">\r\n",
       "  <g id=\"patch_1\">\r\n",
       "   <path d=\"M 0 139.265312 \r\n",
       "L 405.1125 139.265312 \r\n",
       "L 405.1125 0 \r\n",
       "L 0 0 \r\n",
       "z\r\n",
       "\" style=\"fill:#ffffff;\"/>\r\n",
       "  </g>\r\n",
       "  <g id=\"axes_1\">\r\n",
       "   <g id=\"patch_2\">\r\n",
       "    <path d=\"M 63.1125 115.92 \r\n",
       "L 397.9125 115.92 \r\n",
       "L 397.9125 7.2 \r\n",
       "L 63.1125 7.2 \r\n",
       "z\r\n",
       "\" style=\"fill:#ffffff;\"/>\r\n",
       "   </g>\r\n",
       "   <g id=\"matplotlib.axis_1\">\r\n",
       "    <g id=\"xtick_1\">\r\n",
       "     <g id=\"line2d_1\">\r\n",
       "      <path clip-path=\"url(#p0d4e270a2c)\" d=\"M 78.329057 115.92 \r\n",
       "L 78.329057 7.2 \r\n",
       "\" style=\"fill:none;stroke:#cccccc;stroke-linecap:round;stroke-width:0.8;\"/>\r\n",
       "     </g>\r\n",
       "     <g id=\"text_1\">\r\n",
       "      <!-- 0 -->\r\n",
       "      <g style=\"fill:#262626;\" transform=\"translate(75.548589 130.077812)scale(0.1 -0.1)\">\r\n",
       "       <defs>\r\n",
       "        <path d=\"M 4.15625 35.296875 \r\n",
       "Q 4.15625 48 6.765625 55.734375 \r\n",
       "Q 9.375 63.484375 14.515625 67.671875 \r\n",
       "Q 19.671875 71.875 27.484375 71.875 \r\n",
       "Q 33.25 71.875 37.59375 69.546875 \r\n",
       "Q 41.9375 67.234375 44.765625 62.859375 \r\n",
       "Q 47.609375 58.5 49.21875 52.21875 \r\n",
       "Q 50.828125 45.953125 50.828125 35.296875 \r\n",
       "Q 50.828125 22.703125 48.234375 14.96875 \r\n",
       "Q 45.65625 7.234375 40.5 3 \r\n",
       "Q 35.359375 -1.21875 27.484375 -1.21875 \r\n",
       "Q 17.140625 -1.21875 11.234375 6.203125 \r\n",
       "Q 4.15625 15.140625 4.15625 35.296875 \r\n",
       "z\r\n",
       "M 13.1875 35.296875 \r\n",
       "Q 13.1875 17.671875 17.3125 11.828125 \r\n",
       "Q 21.4375 6 27.484375 6 \r\n",
       "Q 33.546875 6 37.671875 11.859375 \r\n",
       "Q 41.796875 17.71875 41.796875 35.296875 \r\n",
       "Q 41.796875 52.984375 37.671875 58.78125 \r\n",
       "Q 33.546875 64.59375 27.390625 64.59375 \r\n",
       "Q 21.34375 64.59375 17.71875 59.46875 \r\n",
       "Q 13.1875 52.9375 13.1875 35.296875 \r\n",
       "z\r\n",
       "\" id=\"ArialMT-48\"/>\r\n",
       "       </defs>\r\n",
       "       <use xlink:href=\"#ArialMT-48\"/>\r\n",
       "      </g>\r\n",
       "     </g>\r\n",
       "    </g>\r\n",
       "    <g id=\"xtick_2\">\r\n",
       "     <g id=\"line2d_2\">\r\n",
       "      <path clip-path=\"url(#p0d4e270a2c)\" d=\"M 118.939032 115.92 \r\n",
       "L 118.939032 7.2 \r\n",
       "\" style=\"fill:none;stroke:#cccccc;stroke-linecap:round;stroke-width:0.8;\"/>\r\n",
       "     </g>\r\n",
       "     <g id=\"text_2\">\r\n",
       "      <!-- 25000 -->\r\n",
       "      <g style=\"fill:#262626;\" transform=\"translate(105.036688 130.077812)scale(0.1 -0.1)\">\r\n",
       "       <defs>\r\n",
       "        <path d=\"M 50.34375 8.453125 \r\n",
       "L 50.34375 0 \r\n",
       "L 3.03125 0 \r\n",
       "Q 2.9375 3.171875 4.046875 6.109375 \r\n",
       "Q 5.859375 10.9375 9.828125 15.625 \r\n",
       "Q 13.8125 20.3125 21.34375 26.46875 \r\n",
       "Q 33.015625 36.03125 37.109375 41.625 \r\n",
       "Q 41.21875 47.21875 41.21875 52.203125 \r\n",
       "Q 41.21875 57.421875 37.46875 61 \r\n",
       "Q 33.734375 64.59375 27.734375 64.59375 \r\n",
       "Q 21.390625 64.59375 17.578125 60.78125 \r\n",
       "Q 13.765625 56.984375 13.71875 50.25 \r\n",
       "L 4.6875 51.171875 \r\n",
       "Q 5.609375 61.28125 11.65625 66.578125 \r\n",
       "Q 17.71875 71.875 27.9375 71.875 \r\n",
       "Q 38.234375 71.875 44.234375 66.15625 \r\n",
       "Q 50.25 60.453125 50.25 52 \r\n",
       "Q 50.25 47.703125 48.484375 43.546875 \r\n",
       "Q 46.734375 39.40625 42.65625 34.8125 \r\n",
       "Q 38.578125 30.21875 29.109375 22.21875 \r\n",
       "Q 21.1875 15.578125 18.9375 13.203125 \r\n",
       "Q 16.703125 10.84375 15.234375 8.453125 \r\n",
       "z\r\n",
       "\" id=\"ArialMT-50\"/>\r\n",
       "        <path d=\"M 4.15625 18.75 \r\n",
       "L 13.375 19.53125 \r\n",
       "Q 14.40625 12.796875 18.140625 9.390625 \r\n",
       "Q 21.875 6 27.15625 6 \r\n",
       "Q 33.5 6 37.890625 10.78125 \r\n",
       "Q 42.28125 15.578125 42.28125 23.484375 \r\n",
       "Q 42.28125 31 38.0625 35.34375 \r\n",
       "Q 33.84375 39.703125 27 39.703125 \r\n",
       "Q 22.75 39.703125 19.328125 37.765625 \r\n",
       "Q 15.921875 35.84375 13.96875 32.765625 \r\n",
       "L 5.71875 33.84375 \r\n",
       "L 12.640625 70.609375 \r\n",
       "L 48.25 70.609375 \r\n",
       "L 48.25 62.203125 \r\n",
       "L 19.671875 62.203125 \r\n",
       "L 15.828125 42.96875 \r\n",
       "Q 22.265625 47.46875 29.34375 47.46875 \r\n",
       "Q 38.71875 47.46875 45.15625 40.96875 \r\n",
       "Q 51.609375 34.46875 51.609375 24.265625 \r\n",
       "Q 51.609375 14.546875 45.953125 7.46875 \r\n",
       "Q 39.0625 -1.21875 27.15625 -1.21875 \r\n",
       "Q 17.390625 -1.21875 11.203125 4.25 \r\n",
       "Q 5.03125 9.71875 4.15625 18.75 \r\n",
       "z\r\n",
       "\" id=\"ArialMT-53\"/>\r\n",
       "       </defs>\r\n",
       "       <use xlink:href=\"#ArialMT-50\"/>\r\n",
       "       <use x=\"55.615234\" xlink:href=\"#ArialMT-53\"/>\r\n",
       "       <use x=\"111.230469\" xlink:href=\"#ArialMT-48\"/>\r\n",
       "       <use x=\"166.845703\" xlink:href=\"#ArialMT-48\"/>\r\n",
       "       <use x=\"222.460938\" xlink:href=\"#ArialMT-48\"/>\r\n",
       "      </g>\r\n",
       "     </g>\r\n",
       "    </g>\r\n",
       "    <g id=\"xtick_3\">\r\n",
       "     <g id=\"line2d_3\">\r\n",
       "      <path clip-path=\"url(#p0d4e270a2c)\" d=\"M 159.549006 115.92 \r\n",
       "L 159.549006 7.2 \r\n",
       "\" style=\"fill:none;stroke:#cccccc;stroke-linecap:round;stroke-width:0.8;\"/>\r\n",
       "     </g>\r\n",
       "     <g id=\"text_3\">\r\n",
       "      <!-- 50000 -->\r\n",
       "      <g style=\"fill:#262626;\" transform=\"translate(145.646663 130.077812)scale(0.1 -0.1)\">\r\n",
       "       <use xlink:href=\"#ArialMT-53\"/>\r\n",
       "       <use x=\"55.615234\" xlink:href=\"#ArialMT-48\"/>\r\n",
       "       <use x=\"111.230469\" xlink:href=\"#ArialMT-48\"/>\r\n",
       "       <use x=\"166.845703\" xlink:href=\"#ArialMT-48\"/>\r\n",
       "       <use x=\"222.460938\" xlink:href=\"#ArialMT-48\"/>\r\n",
       "      </g>\r\n",
       "     </g>\r\n",
       "    </g>\r\n",
       "    <g id=\"xtick_4\">\r\n",
       "     <g id=\"line2d_4\">\r\n",
       "      <path clip-path=\"url(#p0d4e270a2c)\" d=\"M 200.158981 115.92 \r\n",
       "L 200.158981 7.2 \r\n",
       "\" style=\"fill:none;stroke:#cccccc;stroke-linecap:round;stroke-width:0.8;\"/>\r\n",
       "     </g>\r\n",
       "     <g id=\"text_4\">\r\n",
       "      <!-- 75000 -->\r\n",
       "      <g style=\"fill:#262626;\" transform=\"translate(186.256637 130.077812)scale(0.1 -0.1)\">\r\n",
       "       <defs>\r\n",
       "        <path d=\"M 4.734375 62.203125 \r\n",
       "L 4.734375 70.65625 \r\n",
       "L 51.078125 70.65625 \r\n",
       "L 51.078125 63.8125 \r\n",
       "Q 44.234375 56.546875 37.515625 44.484375 \r\n",
       "Q 30.8125 32.421875 27.15625 19.671875 \r\n",
       "Q 24.515625 10.6875 23.78125 0 \r\n",
       "L 14.75 0 \r\n",
       "Q 14.890625 8.453125 18.0625 20.40625 \r\n",
       "Q 21.234375 32.375 27.171875 43.484375 \r\n",
       "Q 33.109375 54.59375 39.796875 62.203125 \r\n",
       "z\r\n",
       "\" id=\"ArialMT-55\"/>\r\n",
       "       </defs>\r\n",
       "       <use xlink:href=\"#ArialMT-55\"/>\r\n",
       "       <use x=\"55.615234\" xlink:href=\"#ArialMT-53\"/>\r\n",
       "       <use x=\"111.230469\" xlink:href=\"#ArialMT-48\"/>\r\n",
       "       <use x=\"166.845703\" xlink:href=\"#ArialMT-48\"/>\r\n",
       "       <use x=\"222.460938\" xlink:href=\"#ArialMT-48\"/>\r\n",
       "      </g>\r\n",
       "     </g>\r\n",
       "    </g>\r\n",
       "    <g id=\"xtick_5\">\r\n",
       "     <g id=\"line2d_5\">\r\n",
       "      <path clip-path=\"url(#p0d4e270a2c)\" d=\"M 240.768955 115.92 \r\n",
       "L 240.768955 7.2 \r\n",
       "\" style=\"fill:none;stroke:#cccccc;stroke-linecap:round;stroke-width:0.8;\"/>\r\n",
       "     </g>\r\n",
       "     <g id=\"text_5\">\r\n",
       "      <!-- 100000 -->\r\n",
       "      <g style=\"fill:#262626;\" transform=\"translate(224.086143 130.077812)scale(0.1 -0.1)\">\r\n",
       "       <defs>\r\n",
       "        <path d=\"M 37.25 0 \r\n",
       "L 28.46875 0 \r\n",
       "L 28.46875 56 \r\n",
       "Q 25.296875 52.984375 20.140625 49.953125 \r\n",
       "Q 14.984375 46.921875 10.890625 45.40625 \r\n",
       "L 10.890625 53.90625 \r\n",
       "Q 18.265625 57.375 23.78125 62.296875 \r\n",
       "Q 29.296875 67.234375 31.59375 71.875 \r\n",
       "L 37.25 71.875 \r\n",
       "z\r\n",
       "\" id=\"ArialMT-49\"/>\r\n",
       "       </defs>\r\n",
       "       <use xlink:href=\"#ArialMT-49\"/>\r\n",
       "       <use x=\"55.615234\" xlink:href=\"#ArialMT-48\"/>\r\n",
       "       <use x=\"111.230469\" xlink:href=\"#ArialMT-48\"/>\r\n",
       "       <use x=\"166.845703\" xlink:href=\"#ArialMT-48\"/>\r\n",
       "       <use x=\"222.460938\" xlink:href=\"#ArialMT-48\"/>\r\n",
       "       <use x=\"278.076172\" xlink:href=\"#ArialMT-48\"/>\r\n",
       "      </g>\r\n",
       "     </g>\r\n",
       "    </g>\r\n",
       "    <g id=\"xtick_6\">\r\n",
       "     <g id=\"line2d_6\">\r\n",
       "      <path clip-path=\"url(#p0d4e270a2c)\" d=\"M 281.37893 115.92 \r\n",
       "L 281.37893 7.2 \r\n",
       "\" style=\"fill:none;stroke:#cccccc;stroke-linecap:round;stroke-width:0.8;\"/>\r\n",
       "     </g>\r\n",
       "     <g id=\"text_6\">\r\n",
       "      <!-- 125000 -->\r\n",
       "      <g style=\"fill:#262626;\" transform=\"translate(264.696117 130.077812)scale(0.1 -0.1)\">\r\n",
       "       <use xlink:href=\"#ArialMT-49\"/>\r\n",
       "       <use x=\"55.615234\" xlink:href=\"#ArialMT-50\"/>\r\n",
       "       <use x=\"111.230469\" xlink:href=\"#ArialMT-53\"/>\r\n",
       "       <use x=\"166.845703\" xlink:href=\"#ArialMT-48\"/>\r\n",
       "       <use x=\"222.460938\" xlink:href=\"#ArialMT-48\"/>\r\n",
       "       <use x=\"278.076172\" xlink:href=\"#ArialMT-48\"/>\r\n",
       "      </g>\r\n",
       "     </g>\r\n",
       "    </g>\r\n",
       "    <g id=\"xtick_7\">\r\n",
       "     <g id=\"line2d_7\">\r\n",
       "      <path clip-path=\"url(#p0d4e270a2c)\" d=\"M 321.988904 115.92 \r\n",
       "L 321.988904 7.2 \r\n",
       "\" style=\"fill:none;stroke:#cccccc;stroke-linecap:round;stroke-width:0.8;\"/>\r\n",
       "     </g>\r\n",
       "     <g id=\"text_7\">\r\n",
       "      <!-- 150000 -->\r\n",
       "      <g style=\"fill:#262626;\" transform=\"translate(305.306092 130.077812)scale(0.1 -0.1)\">\r\n",
       "       <use xlink:href=\"#ArialMT-49\"/>\r\n",
       "       <use x=\"55.615234\" xlink:href=\"#ArialMT-53\"/>\r\n",
       "       <use x=\"111.230469\" xlink:href=\"#ArialMT-48\"/>\r\n",
       "       <use x=\"166.845703\" xlink:href=\"#ArialMT-48\"/>\r\n",
       "       <use x=\"222.460938\" xlink:href=\"#ArialMT-48\"/>\r\n",
       "       <use x=\"278.076172\" xlink:href=\"#ArialMT-48\"/>\r\n",
       "      </g>\r\n",
       "     </g>\r\n",
       "    </g>\r\n",
       "    <g id=\"xtick_8\">\r\n",
       "     <g id=\"line2d_8\">\r\n",
       "      <path clip-path=\"url(#p0d4e270a2c)\" d=\"M 362.598878 115.92 \r\n",
       "L 362.598878 7.2 \r\n",
       "\" style=\"fill:none;stroke:#cccccc;stroke-linecap:round;stroke-width:0.8;\"/>\r\n",
       "     </g>\r\n",
       "     <g id=\"text_8\">\r\n",
       "      <!-- 175000 -->\r\n",
       "      <g style=\"fill:#262626;\" transform=\"translate(345.916066 130.077812)scale(0.1 -0.1)\">\r\n",
       "       <use xlink:href=\"#ArialMT-49\"/>\r\n",
       "       <use x=\"55.615234\" xlink:href=\"#ArialMT-55\"/>\r\n",
       "       <use x=\"111.230469\" xlink:href=\"#ArialMT-53\"/>\r\n",
       "       <use x=\"166.845703\" xlink:href=\"#ArialMT-48\"/>\r\n",
       "       <use x=\"222.460938\" xlink:href=\"#ArialMT-48\"/>\r\n",
       "       <use x=\"278.076172\" xlink:href=\"#ArialMT-48\"/>\r\n",
       "      </g>\r\n",
       "     </g>\r\n",
       "    </g>\r\n",
       "   </g>\r\n",
       "   <g id=\"matplotlib.axis_2\">\r\n",
       "    <g id=\"ytick_1\">\r\n",
       "     <g id=\"line2d_9\">\r\n",
       "      <path clip-path=\"url(#p0d4e270a2c)\" d=\"M 63.1125 61.56 \r\n",
       "L 397.9125 61.56 \r\n",
       "\" style=\"fill:none;stroke:#cccccc;stroke-linecap:round;stroke-width:0.8;\"/>\r\n",
       "     </g>\r\n",
       "     <g id=\"text_9\">\r\n",
       "      <!-- num_posts -->\r\n",
       "      <g style=\"fill:#262626;\" transform=\"translate(7.2 65.138906)scale(0.1 -0.1)\">\r\n",
       "       <defs>\r\n",
       "        <path d=\"M 6.59375 0 \r\n",
       "L 6.59375 51.859375 \r\n",
       "L 14.5 51.859375 \r\n",
       "L 14.5 44.484375 \r\n",
       "Q 20.21875 53.03125 31 53.03125 \r\n",
       "Q 35.6875 53.03125 39.625 51.34375 \r\n",
       "Q 43.5625 49.65625 45.515625 46.921875 \r\n",
       "Q 47.46875 44.1875 48.25 40.4375 \r\n",
       "Q 48.734375 37.984375 48.734375 31.890625 \r\n",
       "L 48.734375 0 \r\n",
       "L 39.9375 0 \r\n",
       "L 39.9375 31.546875 \r\n",
       "Q 39.9375 36.921875 38.90625 39.578125 \r\n",
       "Q 37.890625 42.234375 35.28125 43.8125 \r\n",
       "Q 32.671875 45.40625 29.15625 45.40625 \r\n",
       "Q 23.53125 45.40625 19.453125 41.84375 \r\n",
       "Q 15.375 38.28125 15.375 28.328125 \r\n",
       "L 15.375 0 \r\n",
       "z\r\n",
       "\" id=\"ArialMT-110\"/>\r\n",
       "        <path d=\"M 40.578125 0 \r\n",
       "L 40.578125 7.625 \r\n",
       "Q 34.515625 -1.171875 24.125 -1.171875 \r\n",
       "Q 19.53125 -1.171875 15.546875 0.578125 \r\n",
       "Q 11.578125 2.34375 9.640625 5 \r\n",
       "Q 7.71875 7.671875 6.9375 11.53125 \r\n",
       "Q 6.390625 14.109375 6.390625 19.734375 \r\n",
       "L 6.390625 51.859375 \r\n",
       "L 15.1875 51.859375 \r\n",
       "L 15.1875 23.09375 \r\n",
       "Q 15.1875 16.21875 15.71875 13.8125 \r\n",
       "Q 16.546875 10.359375 19.234375 8.375 \r\n",
       "Q 21.921875 6.390625 25.875 6.390625 \r\n",
       "Q 29.828125 6.390625 33.296875 8.421875 \r\n",
       "Q 36.765625 10.453125 38.203125 13.9375 \r\n",
       "Q 39.65625 17.4375 39.65625 24.078125 \r\n",
       "L 39.65625 51.859375 \r\n",
       "L 48.4375 51.859375 \r\n",
       "L 48.4375 0 \r\n",
       "z\r\n",
       "\" id=\"ArialMT-117\"/>\r\n",
       "        <path d=\"M 6.59375 0 \r\n",
       "L 6.59375 51.859375 \r\n",
       "L 14.453125 51.859375 \r\n",
       "L 14.453125 44.578125 \r\n",
       "Q 16.890625 48.390625 20.9375 50.703125 \r\n",
       "Q 25 53.03125 30.171875 53.03125 \r\n",
       "Q 35.9375 53.03125 39.625 50.640625 \r\n",
       "Q 43.3125 48.25 44.828125 43.953125 \r\n",
       "Q 50.984375 53.03125 60.84375 53.03125 \r\n",
       "Q 68.5625 53.03125 72.703125 48.75 \r\n",
       "Q 76.859375 44.484375 76.859375 35.59375 \r\n",
       "L 76.859375 0 \r\n",
       "L 68.109375 0 \r\n",
       "L 68.109375 32.671875 \r\n",
       "Q 68.109375 37.9375 67.25 40.25 \r\n",
       "Q 66.40625 42.578125 64.15625 43.984375 \r\n",
       "Q 61.921875 45.40625 58.890625 45.40625 \r\n",
       "Q 53.421875 45.40625 49.796875 41.765625 \r\n",
       "Q 46.1875 38.140625 46.1875 30.125 \r\n",
       "L 46.1875 0 \r\n",
       "L 37.40625 0 \r\n",
       "L 37.40625 33.6875 \r\n",
       "Q 37.40625 39.546875 35.25 42.46875 \r\n",
       "Q 33.109375 45.40625 28.21875 45.40625 \r\n",
       "Q 24.515625 45.40625 21.359375 43.453125 \r\n",
       "Q 18.21875 41.5 16.796875 37.734375 \r\n",
       "Q 15.375 33.984375 15.375 26.90625 \r\n",
       "L 15.375 0 \r\n",
       "z\r\n",
       "\" id=\"ArialMT-109\"/>\r\n",
       "        <path d=\"M -1.515625 -19.875 \r\n",
       "L -1.515625 -13.53125 \r\n",
       "L 56.734375 -13.53125 \r\n",
       "L 56.734375 -19.875 \r\n",
       "z\r\n",
       "\" id=\"ArialMT-95\"/>\r\n",
       "        <path d=\"M 6.59375 -19.875 \r\n",
       "L 6.59375 51.859375 \r\n",
       "L 14.59375 51.859375 \r\n",
       "L 14.59375 45.125 \r\n",
       "Q 17.4375 49.078125 21 51.046875 \r\n",
       "Q 24.5625 53.03125 29.640625 53.03125 \r\n",
       "Q 36.28125 53.03125 41.359375 49.609375 \r\n",
       "Q 46.4375 46.1875 49.015625 39.953125 \r\n",
       "Q 51.609375 33.734375 51.609375 26.3125 \r\n",
       "Q 51.609375 18.359375 48.75 11.984375 \r\n",
       "Q 45.90625 5.609375 40.453125 2.21875 \r\n",
       "Q 35.015625 -1.171875 29 -1.171875 \r\n",
       "Q 24.609375 -1.171875 21.109375 0.6875 \r\n",
       "Q 17.625 2.546875 15.375 5.375 \r\n",
       "L 15.375 -19.875 \r\n",
       "z\r\n",
       "M 14.546875 25.640625 \r\n",
       "Q 14.546875 15.625 18.59375 10.84375 \r\n",
       "Q 22.65625 6.0625 28.421875 6.0625 \r\n",
       "Q 34.28125 6.0625 38.453125 11.015625 \r\n",
       "Q 42.625 15.96875 42.625 26.375 \r\n",
       "Q 42.625 36.28125 38.546875 41.203125 \r\n",
       "Q 34.46875 46.140625 28.8125 46.140625 \r\n",
       "Q 23.1875 46.140625 18.859375 40.890625 \r\n",
       "Q 14.546875 35.640625 14.546875 25.640625 \r\n",
       "z\r\n",
       "\" id=\"ArialMT-112\"/>\r\n",
       "        <path d=\"M 3.328125 25.921875 \r\n",
       "Q 3.328125 40.328125 11.328125 47.265625 \r\n",
       "Q 18.015625 53.03125 27.640625 53.03125 \r\n",
       "Q 38.328125 53.03125 45.109375 46.015625 \r\n",
       "Q 51.90625 39.015625 51.90625 26.65625 \r\n",
       "Q 51.90625 16.65625 48.90625 10.90625 \r\n",
       "Q 45.90625 5.171875 40.15625 2 \r\n",
       "Q 34.421875 -1.171875 27.640625 -1.171875 \r\n",
       "Q 16.75 -1.171875 10.03125 5.8125 \r\n",
       "Q 3.328125 12.796875 3.328125 25.921875 \r\n",
       "z\r\n",
       "M 12.359375 25.921875 \r\n",
       "Q 12.359375 15.96875 16.703125 11.015625 \r\n",
       "Q 21.046875 6.0625 27.640625 6.0625 \r\n",
       "Q 34.1875 6.0625 38.53125 11.03125 \r\n",
       "Q 42.875 16.015625 42.875 26.21875 \r\n",
       "Q 42.875 35.84375 38.5 40.796875 \r\n",
       "Q 34.125 45.75 27.640625 45.75 \r\n",
       "Q 21.046875 45.75 16.703125 40.8125 \r\n",
       "Q 12.359375 35.890625 12.359375 25.921875 \r\n",
       "z\r\n",
       "\" id=\"ArialMT-111\"/>\r\n",
       "        <path d=\"M 3.078125 15.484375 \r\n",
       "L 11.765625 16.84375 \r\n",
       "Q 12.5 11.625 15.84375 8.84375 \r\n",
       "Q 19.1875 6.0625 25.203125 6.0625 \r\n",
       "Q 31.25 6.0625 34.171875 8.515625 \r\n",
       "Q 37.109375 10.984375 37.109375 14.3125 \r\n",
       "Q 37.109375 17.28125 34.515625 19 \r\n",
       "Q 32.71875 20.171875 25.53125 21.96875 \r\n",
       "Q 15.875 24.421875 12.140625 26.203125 \r\n",
       "Q 8.40625 27.984375 6.46875 31.125 \r\n",
       "Q 4.546875 34.28125 4.546875 38.09375 \r\n",
       "Q 4.546875 41.546875 6.125 44.5 \r\n",
       "Q 7.71875 47.46875 10.453125 49.421875 \r\n",
       "Q 12.5 50.921875 16.03125 51.96875 \r\n",
       "Q 19.578125 53.03125 23.640625 53.03125 \r\n",
       "Q 29.734375 53.03125 34.34375 51.265625 \r\n",
       "Q 38.96875 49.515625 41.15625 46.5 \r\n",
       "Q 43.359375 43.5 44.1875 38.484375 \r\n",
       "L 35.59375 37.3125 \r\n",
       "Q 35.015625 41.3125 32.203125 43.546875 \r\n",
       "Q 29.390625 45.796875 24.265625 45.796875 \r\n",
       "Q 18.21875 45.796875 15.625 43.796875 \r\n",
       "Q 13.03125 41.796875 13.03125 39.109375 \r\n",
       "Q 13.03125 37.40625 14.109375 36.03125 \r\n",
       "Q 15.1875 34.625 17.484375 33.6875 \r\n",
       "Q 18.796875 33.203125 25.25 31.453125 \r\n",
       "Q 34.578125 28.953125 38.25 27.359375 \r\n",
       "Q 41.9375 25.78125 44.03125 22.75 \r\n",
       "Q 46.140625 19.734375 46.140625 15.234375 \r\n",
       "Q 46.140625 10.84375 43.578125 6.953125 \r\n",
       "Q 41.015625 3.078125 36.171875 0.953125 \r\n",
       "Q 31.34375 -1.171875 25.25 -1.171875 \r\n",
       "Q 15.140625 -1.171875 9.84375 3.03125 \r\n",
       "Q 4.546875 7.234375 3.078125 15.484375 \r\n",
       "z\r\n",
       "\" id=\"ArialMT-115\"/>\r\n",
       "        <path d=\"M 25.78125 7.859375 \r\n",
       "L 27.046875 0.09375 \r\n",
       "Q 23.34375 -0.6875 20.40625 -0.6875 \r\n",
       "Q 15.625 -0.6875 12.984375 0.828125 \r\n",
       "Q 10.359375 2.34375 9.28125 4.8125 \r\n",
       "Q 8.203125 7.28125 8.203125 15.1875 \r\n",
       "L 8.203125 45.015625 \r\n",
       "L 1.765625 45.015625 \r\n",
       "L 1.765625 51.859375 \r\n",
       "L 8.203125 51.859375 \r\n",
       "L 8.203125 64.703125 \r\n",
       "L 16.9375 69.96875 \r\n",
       "L 16.9375 51.859375 \r\n",
       "L 25.78125 51.859375 \r\n",
       "L 25.78125 45.015625 \r\n",
       "L 16.9375 45.015625 \r\n",
       "L 16.9375 14.703125 \r\n",
       "Q 16.9375 10.9375 17.40625 9.859375 \r\n",
       "Q 17.875 8.796875 18.921875 8.15625 \r\n",
       "Q 19.96875 7.515625 21.921875 7.515625 \r\n",
       "Q 23.390625 7.515625 25.78125 7.859375 \r\n",
       "z\r\n",
       "\" id=\"ArialMT-116\"/>\r\n",
       "       </defs>\r\n",
       "       <use xlink:href=\"#ArialMT-110\"/>\r\n",
       "       <use x=\"55.615234\" xlink:href=\"#ArialMT-117\"/>\r\n",
       "       <use x=\"111.230469\" xlink:href=\"#ArialMT-109\"/>\r\n",
       "       <use x=\"194.53125\" xlink:href=\"#ArialMT-95\"/>\r\n",
       "       <use x=\"250.146484\" xlink:href=\"#ArialMT-112\"/>\r\n",
       "       <use x=\"305.761719\" xlink:href=\"#ArialMT-111\"/>\r\n",
       "       <use x=\"361.376953\" xlink:href=\"#ArialMT-115\"/>\r\n",
       "       <use x=\"411.376953\" xlink:href=\"#ArialMT-116\"/>\r\n",
       "       <use x=\"439.160156\" xlink:href=\"#ArialMT-115\"/>\r\n",
       "      </g>\r\n",
       "     </g>\r\n",
       "    </g>\r\n",
       "   </g>\r\n",
       "   <g id=\"line2d_10\">\r\n",
       "    <path clip-path=\"url(#p0d4e270a2c)\" d=\"M 78.330682 69.714 \r\n",
       "L 78.330682 53.406 \r\n",
       "L 78.433019 53.406 \r\n",
       "L 78.433019 69.714 \r\n",
       "L 78.330682 69.714 \r\n",
       "\" style=\"fill:none;stroke:#1f77b4;stroke-linecap:round;\"/>\r\n",
       "   </g>\r\n",
       "   <g id=\"line2d_11\">\r\n",
       "    <path clip-path=\"url(#p0d4e270a2c)\" d=\"M 78.330682 61.56 \r\n",
       "L 78.330682 61.56 \r\n",
       "\" style=\"fill:none;stroke:#1f77b4;stroke-linecap:round;\"/>\r\n",
       "   </g>\r\n",
       "   <g id=\"line2d_12\">\r\n",
       "    <path clip-path=\"url(#p0d4e270a2c)\" d=\"M 78.433019 61.56 \r\n",
       "L 78.562971 61.56 \r\n",
       "\" style=\"fill:none;stroke:#1f77b4;stroke-linecap:round;\"/>\r\n",
       "   </g>\r\n",
       "   <g id=\"line2d_13\">\r\n",
       "    <path clip-path=\"url(#p0d4e270a2c)\" d=\"M 78.330682 65.637 \r\n",
       "L 78.330682 57.483 \r\n",
       "\" style=\"fill:none;stroke:#000000;stroke-linecap:round;\"/>\r\n",
       "   </g>\r\n",
       "   <g id=\"line2d_14\">\r\n",
       "    <path clip-path=\"url(#p0d4e270a2c)\" d=\"M 78.562971 65.637 \r\n",
       "L 78.562971 57.483 \r\n",
       "\" style=\"fill:none;stroke:#000000;stroke-linecap:round;\"/>\r\n",
       "   </g>\r\n",
       "   <g id=\"line2d_15\">\r\n",
       "    <defs>\r\n",
       "     <path d=\"M 0 3 \r\n",
       "C 0.795609 3 1.55874 2.683901 2.12132 2.12132 \r\n",
       "C 2.683901 1.55874 3 0.795609 3 0 \r\n",
       "C 3 -0.795609 2.683901 -1.55874 2.12132 -2.12132 \r\n",
       "C 1.55874 -2.683901 0.795609 -3 0 -3 \r\n",
       "C -0.795609 -3 -1.55874 -2.683901 -2.12132 -2.12132 \r\n",
       "C -2.683901 -1.55874 -3 -0.795609 -3 0 \r\n",
       "C -3 0.795609 -2.683901 1.55874 -2.12132 2.12132 \r\n",
       "C -1.55874 2.683901 -0.795609 3 0 3 \r\n",
       "z\r\n",
       "\" id=\"md45009d7e0\" style=\"stroke:#000000;\"/>\r\n",
       "    </defs>\r\n",
       "    <g clip-path=\"url(#p0d4e270a2c)\">\r\n",
       "     <use style=\"fill-opacity:0;stroke:#000000;\" x=\"382.694318\" xlink:href=\"#md45009d7e0\" y=\"61.56\"/>\r\n",
       "     <use style=\"fill-opacity:0;stroke:#000000;\" x=\"177.683796\" xlink:href=\"#md45009d7e0\" y=\"61.56\"/>\r\n",
       "     <use style=\"fill-opacity:0;stroke:#000000;\" x=\"148.452737\" xlink:href=\"#md45009d7e0\" y=\"61.56\"/>\r\n",
       "     <use style=\"fill-opacity:0;stroke:#000000;\" x=\"172.318407\" xlink:href=\"#md45009d7e0\" y=\"61.56\"/>\r\n",
       "     <use style=\"fill-opacity:0;stroke:#000000;\" x=\"96.40212\" xlink:href=\"#md45009d7e0\" y=\"61.56\"/>\r\n",
       "     <use style=\"fill-opacity:0;stroke:#000000;\" x=\"92.030863\" xlink:href=\"#md45009d7e0\" y=\"61.56\"/>\r\n",
       "     <use style=\"fill-opacity:0;stroke:#000000;\" x=\"80.543113\" xlink:href=\"#md45009d7e0\" y=\"61.56\"/>\r\n",
       "     <use style=\"fill-opacity:0;stroke:#000000;\" x=\"89.844422\" xlink:href=\"#md45009d7e0\" y=\"61.56\"/>\r\n",
       "     <use style=\"fill-opacity:0;stroke:#000000;\" x=\"84.571623\" xlink:href=\"#md45009d7e0\" y=\"61.56\"/>\r\n",
       "     <use style=\"fill-opacity:0;stroke:#000000;\" x=\"89.565025\" xlink:href=\"#md45009d7e0\" y=\"61.56\"/>\r\n",
       "     <use style=\"fill-opacity:0;stroke:#000000;\" x=\"79.068159\" xlink:href=\"#md45009d7e0\" y=\"61.56\"/>\r\n",
       "     <use style=\"fill-opacity:0;stroke:#000000;\" x=\"82.978087\" xlink:href=\"#md45009d7e0\" y=\"61.56\"/>\r\n",
       "     <use style=\"fill-opacity:0;stroke:#000000;\" x=\"78.826124\" xlink:href=\"#md45009d7e0\" y=\"61.56\"/>\r\n",
       "     <use style=\"fill-opacity:0;stroke:#000000;\" x=\"81.095409\" xlink:href=\"#md45009d7e0\" y=\"61.56\"/>\r\n",
       "     <use style=\"fill-opacity:0;stroke:#000000;\" x=\"79.159125\" xlink:href=\"#md45009d7e0\" y=\"61.56\"/>\r\n",
       "     <use style=\"fill-opacity:0;stroke:#000000;\" x=\"79.264711\" xlink:href=\"#md45009d7e0\" y=\"61.56\"/>\r\n",
       "     <use style=\"fill-opacity:0;stroke:#000000;\" x=\"84.410807\" xlink:href=\"#md45009d7e0\" y=\"61.56\"/>\r\n",
       "     <use style=\"fill-opacity:0;stroke:#000000;\" x=\"101.489738\" xlink:href=\"#md45009d7e0\" y=\"61.56\"/>\r\n",
       "     <use style=\"fill-opacity:0;stroke:#000000;\" x=\"78.671806\" xlink:href=\"#md45009d7e0\" y=\"61.56\"/>\r\n",
       "     <use style=\"fill-opacity:0;stroke:#000000;\" x=\"84.906249\" xlink:href=\"#md45009d7e0\" y=\"61.56\"/>\r\n",
       "     <use style=\"fill-opacity:0;stroke:#000000;\" x=\"79.685431\" xlink:href=\"#md45009d7e0\" y=\"61.56\"/>\r\n",
       "     <use style=\"fill-opacity:0;stroke:#000000;\" x=\"79.095774\" xlink:href=\"#md45009d7e0\" y=\"61.56\"/>\r\n",
       "     <use style=\"fill-opacity:0;stroke:#000000;\" x=\"78.806631\" xlink:href=\"#md45009d7e0\" y=\"61.56\"/>\r\n",
       "     <use style=\"fill-opacity:0;stroke:#000000;\" x=\"78.605205\" xlink:href=\"#md45009d7e0\" y=\"61.56\"/>\r\n",
       "     <use style=\"fill-opacity:0;stroke:#000000;\" x=\"80.447274\" xlink:href=\"#md45009d7e0\" y=\"61.56\"/>\r\n",
       "     <use style=\"fill-opacity:0;stroke:#000000;\" x=\"94.088976\" xlink:href=\"#md45009d7e0\" y=\"61.56\"/>\r\n",
       "     <use style=\"fill-opacity:0;stroke:#000000;\" x=\"78.738406\" xlink:href=\"#md45009d7e0\" y=\"61.56\"/>\r\n",
       "     <use style=\"fill-opacity:0;stroke:#000000;\" x=\"78.930085\" xlink:href=\"#md45009d7e0\" y=\"61.56\"/>\r\n",
       "     <use style=\"fill-opacity:0;stroke:#000000;\" x=\"87.344472\" xlink:href=\"#md45009d7e0\" y=\"61.56\"/>\r\n",
       "     <use style=\"fill-opacity:0;stroke:#000000;\" x=\"78.660435\" xlink:href=\"#md45009d7e0\" y=\"61.56\"/>\r\n",
       "     <use style=\"fill-opacity:0;stroke:#000000;\" x=\"171.137469\" xlink:href=\"#md45009d7e0\" y=\"61.56\"/>\r\n",
       "     <use style=\"fill-opacity:0;stroke:#000000;\" x=\"78.891099\" xlink:href=\"#md45009d7e0\" y=\"61.56\"/>\r\n",
       "     <use style=\"fill-opacity:0;stroke:#000000;\" x=\"80.429405\" xlink:href=\"#md45009d7e0\" y=\"61.56\"/>\r\n",
       "     <use style=\"fill-opacity:0;stroke:#000000;\" x=\"79.217604\" xlink:href=\"#md45009d7e0\" y=\"61.56\"/>\r\n",
       "     <use style=\"fill-opacity:0;stroke:#000000;\" x=\"79.115267\" xlink:href=\"#md45009d7e0\" y=\"61.56\"/>\r\n",
       "     <use style=\"fill-opacity:0;stroke:#000000;\" x=\"78.655562\" xlink:href=\"#md45009d7e0\" y=\"61.56\"/>\r\n",
       "     <use style=\"fill-opacity:0;stroke:#000000;\" x=\"79.032422\" xlink:href=\"#md45009d7e0\" y=\"61.56\"/>\r\n",
       "     <use style=\"fill-opacity:0;stroke:#000000;\" x=\"79.565225\" xlink:href=\"#md45009d7e0\" y=\"61.56\"/>\r\n",
       "     <use style=\"fill-opacity:0;stroke:#000000;\" x=\"79.336185\" xlink:href=\"#md45009d7e0\" y=\"61.56\"/>\r\n",
       "     <use style=\"fill-opacity:0;stroke:#000000;\" x=\"78.613327\" xlink:href=\"#md45009d7e0\" y=\"61.56\"/>\r\n",
       "     <use style=\"fill-opacity:0;stroke:#000000;\" x=\"129.219853\" xlink:href=\"#md45009d7e0\" y=\"61.56\"/>\r\n",
       "     <use style=\"fill-opacity:0;stroke:#000000;\" x=\"78.6182\" xlink:href=\"#md45009d7e0\" y=\"61.56\"/>\r\n",
       "     <use style=\"fill-opacity:0;stroke:#000000;\" x=\"80.521996\" xlink:href=\"#md45009d7e0\" y=\"61.56\"/>\r\n",
       "     <use style=\"fill-opacity:0;stroke:#000000;\" x=\"78.722162\" xlink:href=\"#md45009d7e0\" y=\"61.56\"/>\r\n",
       "     <use style=\"fill-opacity:0;stroke:#000000;\" x=\"78.642566\" xlink:href=\"#md45009d7e0\" y=\"61.56\"/>\r\n",
       "     <use style=\"fill-opacity:0;stroke:#000000;\" x=\"82.070048\" xlink:href=\"#md45009d7e0\" y=\"61.56\"/>\r\n",
       "     <use style=\"fill-opacity:0;stroke:#000000;\" x=\"81.594099\" xlink:href=\"#md45009d7e0\" y=\"61.56\"/>\r\n",
       "     <use style=\"fill-opacity:0;stroke:#000000;\" x=\"79.513244\" xlink:href=\"#md45009d7e0\" y=\"61.56\"/>\r\n",
       "     <use style=\"fill-opacity:0;stroke:#000000;\" x=\"79.367048\" xlink:href=\"#md45009d7e0\" y=\"61.56\"/>\r\n",
       "     <use style=\"fill-opacity:0;stroke:#000000;\" x=\"78.915465\" xlink:href=\"#md45009d7e0\" y=\"61.56\"/>\r\n",
       "     <use style=\"fill-opacity:0;stroke:#000000;\" x=\"78.843992\" xlink:href=\"#md45009d7e0\" y=\"61.56\"/>\r\n",
       "     <use style=\"fill-opacity:0;stroke:#000000;\" x=\"78.64744\" xlink:href=\"#md45009d7e0\" y=\"61.56\"/>\r\n",
       "     <use style=\"fill-opacity:0;stroke:#000000;\" x=\"78.621449\" xlink:href=\"#md45009d7e0\" y=\"61.56\"/>\r\n",
       "     <use style=\"fill-opacity:0;stroke:#000000;\" x=\"101.720403\" xlink:href=\"#md45009d7e0\" y=\"61.56\"/>\r\n",
       "     <use style=\"fill-opacity:0;stroke:#000000;\" x=\"79.695177\" xlink:href=\"#md45009d7e0\" y=\"61.56\"/>\r\n",
       "     <use style=\"fill-opacity:0;stroke:#000000;\" x=\"82.390055\" xlink:href=\"#md45009d7e0\" y=\"61.56\"/>\r\n",
       "     <use style=\"fill-opacity:0;stroke:#000000;\" x=\"79.791016\" xlink:href=\"#md45009d7e0\" y=\"61.56\"/>\r\n",
       "     <use style=\"fill-opacity:0;stroke:#000000;\" x=\"78.694547\" xlink:href=\"#md45009d7e0\" y=\"61.56\"/>\r\n",
       "     <use style=\"fill-opacity:0;stroke:#000000;\" x=\"78.744904\" xlink:href=\"#md45009d7e0\" y=\"61.56\"/>\r\n",
       "     <use style=\"fill-opacity:0;stroke:#000000;\" x=\"236.454551\" xlink:href=\"#md45009d7e0\" y=\"61.56\"/>\r\n",
       "     <use style=\"fill-opacity:0;stroke:#000000;\" x=\"78.94308\" xlink:href=\"#md45009d7e0\" y=\"61.56\"/>\r\n",
       "     <use style=\"fill-opacity:0;stroke:#000000;\" x=\"79.115267\" xlink:href=\"#md45009d7e0\" y=\"61.56\"/>\r\n",
       "     <use style=\"fill-opacity:0;stroke:#000000;\" x=\"83.13403\" xlink:href=\"#md45009d7e0\" y=\"61.56\"/>\r\n",
       "     <use style=\"fill-opacity:0;stroke:#000000;\" x=\"98.705518\" xlink:href=\"#md45009d7e0\" y=\"61.56\"/>\r\n",
       "     <use style=\"fill-opacity:0;stroke:#000000;\" x=\"79.121764\" xlink:href=\"#md45009d7e0\" y=\"61.56\"/>\r\n",
       "     <use style=\"fill-opacity:0;stroke:#000000;\" x=\"79.264711\" xlink:href=\"#md45009d7e0\" y=\"61.56\"/>\r\n",
       "     <use style=\"fill-opacity:0;stroke:#000000;\" x=\"78.702669\" xlink:href=\"#md45009d7e0\" y=\"61.56\"/>\r\n",
       "     <use style=\"fill-opacity:0;stroke:#000000;\" x=\"78.624698\" xlink:href=\"#md45009d7e0\" y=\"61.56\"/>\r\n",
       "     <use style=\"fill-opacity:0;stroke:#000000;\" x=\"79.225726\" xlink:href=\"#md45009d7e0\" y=\"61.56\"/>\r\n",
       "     <use style=\"fill-opacity:0;stroke:#000000;\" x=\"78.595459\" xlink:href=\"#md45009d7e0\" y=\"61.56\"/>\r\n",
       "     <use style=\"fill-opacity:0;stroke:#000000;\" x=\"131.545992\" xlink:href=\"#md45009d7e0\" y=\"61.56\"/>\r\n",
       "     <use style=\"fill-opacity:0;stroke:#000000;\" x=\"79.188364\" xlink:href=\"#md45009d7e0\" y=\"61.56\"/>\r\n",
       "     <use style=\"fill-opacity:0;stroke:#000000;\" x=\"79.513244\" xlink:href=\"#md45009d7e0\" y=\"61.56\"/>\r\n",
       "     <use style=\"fill-opacity:0;stroke:#000000;\" x=\"81.618465\" xlink:href=\"#md45009d7e0\" y=\"61.56\"/>\r\n",
       "     <use style=\"fill-opacity:0;stroke:#000000;\" x=\"78.798509\" xlink:href=\"#md45009d7e0\" y=\"61.56\"/>\r\n",
       "     <use style=\"fill-opacity:0;stroke:#000000;\" x=\"81.194497\" xlink:href=\"#md45009d7e0\" y=\"61.56\"/>\r\n",
       "     <use style=\"fill-opacity:0;stroke:#000000;\" x=\"78.928461\" xlink:href=\"#md45009d7e0\" y=\"61.56\"/>\r\n",
       "     <use style=\"fill-opacity:0;stroke:#000000;\" x=\"92.07797\" xlink:href=\"#md45009d7e0\" y=\"61.56\"/>\r\n",
       "     <use style=\"fill-opacity:0;stroke:#000000;\" x=\"78.743279\" xlink:href=\"#md45009d7e0\" y=\"61.56\"/>\r\n",
       "     <use style=\"fill-opacity:0;stroke:#000000;\" x=\"78.798509\" xlink:href=\"#md45009d7e0\" y=\"61.56\"/>\r\n",
       "     <use style=\"fill-opacity:0;stroke:#000000;\" x=\"82.229239\" xlink:href=\"#md45009d7e0\" y=\"61.56\"/>\r\n",
       "     <use style=\"fill-opacity:0;stroke:#000000;\" x=\"78.853738\" xlink:href=\"#md45009d7e0\" y=\"61.56\"/>\r\n",
       "     <use style=\"fill-opacity:0;stroke:#000000;\" x=\"81.259473\" xlink:href=\"#md45009d7e0\" y=\"61.56\"/>\r\n",
       "     <use style=\"fill-opacity:0;stroke:#000000;\" x=\"78.798509\" xlink:href=\"#md45009d7e0\" y=\"61.56\"/>\r\n",
       "     <use style=\"fill-opacity:0;stroke:#000000;\" x=\"79.188364\" xlink:href=\"#md45009d7e0\" y=\"61.56\"/>\r\n",
       "     <use style=\"fill-opacity:0;stroke:#000000;\" x=\"79.695177\" xlink:href=\"#md45009d7e0\" y=\"61.56\"/>\r\n",
       "    </g>\r\n",
       "   </g>\r\n",
       "   <g id=\"line2d_16\">\r\n",
       "    <path clip-path=\"url(#p0d4e270a2c)\" d=\"M 78.342053 69.714 \r\n",
       "L 78.342053 53.406 \r\n",
       "\" style=\"fill:none;stroke:#2ca02c;stroke-linecap:round;\"/>\r\n",
       "   </g>\r\n",
       "   <g id=\"patch_3\">\r\n",
       "    <path d=\"M 63.1125 115.92 \r\n",
       "L 63.1125 7.2 \r\n",
       "\" style=\"fill:none;stroke:#cccccc;stroke-linecap:square;stroke-linejoin:miter;stroke-width:0.8;\"/>\r\n",
       "   </g>\r\n",
       "   <g id=\"patch_4\">\r\n",
       "    <path d=\"M 397.9125 115.92 \r\n",
       "L 397.9125 7.2 \r\n",
       "\" style=\"fill:none;stroke:#cccccc;stroke-linecap:square;stroke-linejoin:miter;stroke-width:0.8;\"/>\r\n",
       "   </g>\r\n",
       "   <g id=\"patch_5\">\r\n",
       "    <path d=\"M 63.1125 115.92 \r\n",
       "L 397.9125 115.92 \r\n",
       "\" style=\"fill:none;stroke:#cccccc;stroke-linecap:square;stroke-linejoin:miter;stroke-width:0.8;\"/>\r\n",
       "   </g>\r\n",
       "   <g id=\"patch_6\">\r\n",
       "    <path d=\"M 63.1125 7.2 \r\n",
       "L 397.9125 7.2 \r\n",
       "\" style=\"fill:none;stroke:#cccccc;stroke-linecap:square;stroke-linejoin:miter;stroke-width:0.8;\"/>\r\n",
       "   </g>\r\n",
       "  </g>\r\n",
       " </g>\r\n",
       " <defs>\r\n",
       "  <clipPath id=\"p0d4e270a2c\">\r\n",
       "   <rect height=\"108.72\" width=\"334.8\" x=\"63.1125\" y=\"7.2\"/>\r\n",
       "  </clipPath>\r\n",
       " </defs>\r\n",
       "</svg>\r\n"
      ],
      "text/plain": [
       "<Figure size 600x200 with 1 Axes>"
      ]
     },
     "metadata": {},
     "output_type": "display_data"
    }
   ],
   "source": [
    "# horizontal boxplot of a dataframe column\n",
    "cat_df[['num_posts']].plot(kind='box', vert=False, figsize=(6, 2));"
   ]
  },
  {
   "cell_type": "code",
   "execution_count": 23,
   "metadata": {
    "ExecuteTime": {
     "end_time": "2019-01-08T15:41:08.320506Z",
     "start_time": "2019-01-08T15:41:07.645508Z"
    },
    "scrolled": true
   },
   "outputs": [
    {
     "ename": "TypeError",
     "evalue": "no numeric data to plot",
     "output_type": "error",
     "traceback": [
      "\u001b[1;31m---------------------------------------------------------------------------\u001b[0m",
      "\u001b[1;31mTypeError\u001b[0m                                 Traceback (most recent call last)",
      "\u001b[1;32m<ipython-input-23-8edb97696db6>\u001b[0m in \u001b[0;36m<module>\u001b[1;34m\u001b[0m\n\u001b[0;32m      1\u001b[0m \u001b[1;31m# bar chart of a dataframe column\u001b[0m\u001b[1;33m\u001b[0m\u001b[1;33m\u001b[0m\u001b[1;33m\u001b[0m\u001b[0m\n\u001b[1;32m----> 2\u001b[1;33m \u001b[0mdf\u001b[0m\u001b[1;33m[\u001b[0m\u001b[1;33m[\u001b[0m\u001b[1;34m'user_location'\u001b[0m\u001b[1;33m]\u001b[0m\u001b[1;33m]\u001b[0m\u001b[1;33m.\u001b[0m\u001b[0mplot\u001b[0m\u001b[1;33m(\u001b[0m\u001b[0mkind\u001b[0m\u001b[1;33m=\u001b[0m\u001b[1;34m'bar'\u001b[0m\u001b[1;33m,\u001b[0m \u001b[0mfigsize\u001b[0m\u001b[1;33m=\u001b[0m\u001b[1;33m(\u001b[0m\u001b[1;36m7\u001b[0m\u001b[1;33m,\u001b[0m\u001b[1;36m4\u001b[0m\u001b[1;33m)\u001b[0m\u001b[1;33m)\u001b[0m\u001b[1;33m;\u001b[0m\u001b[1;33m\u001b[0m\u001b[1;33m\u001b[0m\u001b[0m\n\u001b[0m",
      "\u001b[1;32m~\\anaconda3\\envs\\Ambiente 1\\lib\\site-packages\\pandas\\plotting\\_core.py\u001b[0m in \u001b[0;36m__call__\u001b[1;34m(self, *args, **kwargs)\u001b[0m\n\u001b[0;32m    947\u001b[0m                     \u001b[0mdata\u001b[0m\u001b[1;33m.\u001b[0m\u001b[0mcolumns\u001b[0m \u001b[1;33m=\u001b[0m \u001b[0mlabel_name\u001b[0m\u001b[1;33m\u001b[0m\u001b[1;33m\u001b[0m\u001b[0m\n\u001b[0;32m    948\u001b[0m \u001b[1;33m\u001b[0m\u001b[0m\n\u001b[1;32m--> 949\u001b[1;33m         \u001b[1;32mreturn\u001b[0m \u001b[0mplot_backend\u001b[0m\u001b[1;33m.\u001b[0m\u001b[0mplot\u001b[0m\u001b[1;33m(\u001b[0m\u001b[0mdata\u001b[0m\u001b[1;33m,\u001b[0m \u001b[0mkind\u001b[0m\u001b[1;33m=\u001b[0m\u001b[0mkind\u001b[0m\u001b[1;33m,\u001b[0m \u001b[1;33m**\u001b[0m\u001b[0mkwargs\u001b[0m\u001b[1;33m)\u001b[0m\u001b[1;33m\u001b[0m\u001b[1;33m\u001b[0m\u001b[0m\n\u001b[0m\u001b[0;32m    950\u001b[0m \u001b[1;33m\u001b[0m\u001b[0m\n\u001b[0;32m    951\u001b[0m     \u001b[0m__call__\u001b[0m\u001b[1;33m.\u001b[0m\u001b[0m__doc__\u001b[0m \u001b[1;33m=\u001b[0m \u001b[0m__doc__\u001b[0m\u001b[1;33m\u001b[0m\u001b[1;33m\u001b[0m\u001b[0m\n",
      "\u001b[1;32m~\\anaconda3\\envs\\Ambiente 1\\lib\\site-packages\\pandas\\plotting\\_matplotlib\\__init__.py\u001b[0m in \u001b[0;36mplot\u001b[1;34m(data, kind, **kwargs)\u001b[0m\n\u001b[0;32m     59\u001b[0m             \u001b[0mkwargs\u001b[0m\u001b[1;33m[\u001b[0m\u001b[1;34m\"ax\"\u001b[0m\u001b[1;33m]\u001b[0m \u001b[1;33m=\u001b[0m \u001b[0mgetattr\u001b[0m\u001b[1;33m(\u001b[0m\u001b[0max\u001b[0m\u001b[1;33m,\u001b[0m \u001b[1;34m\"left_ax\"\u001b[0m\u001b[1;33m,\u001b[0m \u001b[0max\u001b[0m\u001b[1;33m)\u001b[0m\u001b[1;33m\u001b[0m\u001b[1;33m\u001b[0m\u001b[0m\n\u001b[0;32m     60\u001b[0m     \u001b[0mplot_obj\u001b[0m \u001b[1;33m=\u001b[0m \u001b[0mPLOT_CLASSES\u001b[0m\u001b[1;33m[\u001b[0m\u001b[0mkind\u001b[0m\u001b[1;33m]\u001b[0m\u001b[1;33m(\u001b[0m\u001b[0mdata\u001b[0m\u001b[1;33m,\u001b[0m \u001b[1;33m**\u001b[0m\u001b[0mkwargs\u001b[0m\u001b[1;33m)\u001b[0m\u001b[1;33m\u001b[0m\u001b[1;33m\u001b[0m\u001b[0m\n\u001b[1;32m---> 61\u001b[1;33m     \u001b[0mplot_obj\u001b[0m\u001b[1;33m.\u001b[0m\u001b[0mgenerate\u001b[0m\u001b[1;33m(\u001b[0m\u001b[1;33m)\u001b[0m\u001b[1;33m\u001b[0m\u001b[1;33m\u001b[0m\u001b[0m\n\u001b[0m\u001b[0;32m     62\u001b[0m     \u001b[0mplot_obj\u001b[0m\u001b[1;33m.\u001b[0m\u001b[0mdraw\u001b[0m\u001b[1;33m(\u001b[0m\u001b[1;33m)\u001b[0m\u001b[1;33m\u001b[0m\u001b[1;33m\u001b[0m\u001b[0m\n\u001b[0;32m     63\u001b[0m     \u001b[1;32mreturn\u001b[0m \u001b[0mplot_obj\u001b[0m\u001b[1;33m.\u001b[0m\u001b[0mresult\u001b[0m\u001b[1;33m\u001b[0m\u001b[1;33m\u001b[0m\u001b[0m\n",
      "\u001b[1;32m~\\anaconda3\\envs\\Ambiente 1\\lib\\site-packages\\pandas\\plotting\\_matplotlib\\core.py\u001b[0m in \u001b[0;36mgenerate\u001b[1;34m(self)\u001b[0m\n\u001b[0;32m    267\u001b[0m     \u001b[1;32mdef\u001b[0m \u001b[0mgenerate\u001b[0m\u001b[1;33m(\u001b[0m\u001b[0mself\u001b[0m\u001b[1;33m)\u001b[0m\u001b[1;33m:\u001b[0m\u001b[1;33m\u001b[0m\u001b[1;33m\u001b[0m\u001b[0m\n\u001b[0;32m    268\u001b[0m         \u001b[0mself\u001b[0m\u001b[1;33m.\u001b[0m\u001b[0m_args_adjust\u001b[0m\u001b[1;33m(\u001b[0m\u001b[1;33m)\u001b[0m\u001b[1;33m\u001b[0m\u001b[1;33m\u001b[0m\u001b[0m\n\u001b[1;32m--> 269\u001b[1;33m         \u001b[0mself\u001b[0m\u001b[1;33m.\u001b[0m\u001b[0m_compute_plot_data\u001b[0m\u001b[1;33m(\u001b[0m\u001b[1;33m)\u001b[0m\u001b[1;33m\u001b[0m\u001b[1;33m\u001b[0m\u001b[0m\n\u001b[0m\u001b[0;32m    270\u001b[0m         \u001b[0mself\u001b[0m\u001b[1;33m.\u001b[0m\u001b[0m_setup_subplots\u001b[0m\u001b[1;33m(\u001b[0m\u001b[1;33m)\u001b[0m\u001b[1;33m\u001b[0m\u001b[1;33m\u001b[0m\u001b[0m\n\u001b[0;32m    271\u001b[0m         \u001b[0mself\u001b[0m\u001b[1;33m.\u001b[0m\u001b[0m_make_plot\u001b[0m\u001b[1;33m(\u001b[0m\u001b[1;33m)\u001b[0m\u001b[1;33m\u001b[0m\u001b[1;33m\u001b[0m\u001b[0m\n",
      "\u001b[1;32m~\\anaconda3\\envs\\Ambiente 1\\lib\\site-packages\\pandas\\plotting\\_matplotlib\\core.py\u001b[0m in \u001b[0;36m_compute_plot_data\u001b[1;34m(self)\u001b[0m\n\u001b[0;32m    416\u001b[0m         \u001b[1;31m# no non-numeric frames or series allowed\u001b[0m\u001b[1;33m\u001b[0m\u001b[1;33m\u001b[0m\u001b[1;33m\u001b[0m\u001b[0m\n\u001b[0;32m    417\u001b[0m         \u001b[1;32mif\u001b[0m \u001b[0mis_empty\u001b[0m\u001b[1;33m:\u001b[0m\u001b[1;33m\u001b[0m\u001b[1;33m\u001b[0m\u001b[0m\n\u001b[1;32m--> 418\u001b[1;33m             \u001b[1;32mraise\u001b[0m \u001b[0mTypeError\u001b[0m\u001b[1;33m(\u001b[0m\u001b[1;34m\"no numeric data to plot\"\u001b[0m\u001b[1;33m)\u001b[0m\u001b[1;33m\u001b[0m\u001b[1;33m\u001b[0m\u001b[0m\n\u001b[0m\u001b[0;32m    419\u001b[0m \u001b[1;33m\u001b[0m\u001b[0m\n\u001b[0;32m    420\u001b[0m         \u001b[1;31m# GH25587: cast ExtensionArray of pandas (IntegerArray, etc.) to\u001b[0m\u001b[1;33m\u001b[0m\u001b[1;33m\u001b[0m\u001b[1;33m\u001b[0m\u001b[0m\n",
      "\u001b[1;31mTypeError\u001b[0m: no numeric data to plot"
     ]
    }
   ],
   "source": [
    "# bar chart of a dataframe column\n",
    "cat_df[['num_hashtags']].plot(kind='bar', figsize=(7,4));"
   ]
  },
  {
   "cell_type": "markdown",
   "metadata": {},
   "source": [
    "## Exploring Word Frequencies"
   ]
  },
  {
   "cell_type": "code",
   "execution_count": 19,
   "metadata": {
    "ExecuteTime": {
     "end_time": "2019-01-06T12:54:57.126753Z",
     "start_time": "2019-01-06T12:54:56.945751Z"
    }
   },
   "outputs": [
    {
     "ename": "KeyError",
     "evalue": "'num_posts'",
     "output_type": "error",
     "traceback": [
      "\u001b[1;31m---------------------------------------------------------------------------\u001b[0m",
      "\u001b[1;31mKeyError\u001b[0m                                  Traceback (most recent call last)",
      "\u001b[1;32m~\\anaconda3\\envs\\Ambiente 1\\lib\\site-packages\\pandas\\core\\indexes\\base.py\u001b[0m in \u001b[0;36mget_loc\u001b[1;34m(self, key, method, tolerance)\u001b[0m\n\u001b[0;32m   2894\u001b[0m             \u001b[1;32mtry\u001b[0m\u001b[1;33m:\u001b[0m\u001b[1;33m\u001b[0m\u001b[1;33m\u001b[0m\u001b[0m\n\u001b[1;32m-> 2895\u001b[1;33m                 \u001b[1;32mreturn\u001b[0m \u001b[0mself\u001b[0m\u001b[1;33m.\u001b[0m\u001b[0m_engine\u001b[0m\u001b[1;33m.\u001b[0m\u001b[0mget_loc\u001b[0m\u001b[1;33m(\u001b[0m\u001b[0mcasted_key\u001b[0m\u001b[1;33m)\u001b[0m\u001b[1;33m\u001b[0m\u001b[1;33m\u001b[0m\u001b[0m\n\u001b[0m\u001b[0;32m   2896\u001b[0m             \u001b[1;32mexcept\u001b[0m \u001b[0mKeyError\u001b[0m \u001b[1;32mas\u001b[0m \u001b[0merr\u001b[0m\u001b[1;33m:\u001b[0m\u001b[1;33m\u001b[0m\u001b[1;33m\u001b[0m\u001b[0m\n",
      "\u001b[1;32mpandas\\_libs\\index.pyx\u001b[0m in \u001b[0;36mpandas._libs.index.IndexEngine.get_loc\u001b[1;34m()\u001b[0m\n",
      "\u001b[1;32mpandas\\_libs\\index.pyx\u001b[0m in \u001b[0;36mpandas._libs.index.IndexEngine.get_loc\u001b[1;34m()\u001b[0m\n",
      "\u001b[1;32mpandas\\_libs\\hashtable_class_helper.pxi\u001b[0m in \u001b[0;36mpandas._libs.hashtable.PyObjectHashTable.get_item\u001b[1;34m()\u001b[0m\n",
      "\u001b[1;32mpandas\\_libs\\hashtable_class_helper.pxi\u001b[0m in \u001b[0;36mpandas._libs.hashtable.PyObjectHashTable.get_item\u001b[1;34m()\u001b[0m\n",
      "\u001b[1;31mKeyError\u001b[0m: 'num_posts'",
      "\nThe above exception was the direct cause of the following exception:\n",
      "\u001b[1;31mKeyError\u001b[0m                                  Traceback (most recent call last)",
      "\u001b[1;32m<ipython-input-19-abdf38088c12>\u001b[0m in \u001b[0;36m<module>\u001b[1;34m\u001b[0m\n\u001b[0;32m      1\u001b[0m \u001b[1;31m# create a data frame slice\u001b[0m\u001b[1;33m\u001b[0m\u001b[1;33m\u001b[0m\u001b[1;33m\u001b[0m\u001b[0m\n\u001b[1;32m----> 2\u001b[1;33m \u001b[0msub_df\u001b[0m \u001b[1;33m=\u001b[0m \u001b[0mdf\u001b[0m\u001b[1;33m[\u001b[0m\u001b[0mdf\u001b[0m\u001b[1;33m[\u001b[0m\u001b[1;34m'num_posts'\u001b[0m\u001b[1;33m]\u001b[0m\u001b[1;33m==\u001b[0m\u001b[1;34m'COVID_19'\u001b[0m\u001b[1;33m]\u001b[0m\u001b[1;33m\u001b[0m\u001b[1;33m\u001b[0m\u001b[0m\n\u001b[0m\u001b[0;32m      3\u001b[0m \u001b[1;33m\u001b[0m\u001b[0m\n\u001b[0;32m      4\u001b[0m \u001b[1;31m# sample cleaned text and tokens tagged as nouns\u001b[0m\u001b[1;33m\u001b[0m\u001b[1;33m\u001b[0m\u001b[1;33m\u001b[0m\u001b[0m\n\u001b[0;32m      5\u001b[0m \u001b[0msub_df\u001b[0m\u001b[1;33m[\u001b[0m\u001b[1;33m[\u001b[0m\u001b[1;34m'plain_text'\u001b[0m\u001b[1;33m,\u001b[0m \u001b[1;34m'selftext_nouns'\u001b[0m\u001b[1;33m]\u001b[0m\u001b[1;33m]\u001b[0m\u001b[1;33m.\u001b[0m\u001b[0msample\u001b[0m\u001b[1;33m(\u001b[0m\u001b[1;36m2\u001b[0m\u001b[1;33m)\u001b[0m\u001b[1;33m\u001b[0m\u001b[1;33m\u001b[0m\u001b[0m\n",
      "\u001b[1;32m~\\anaconda3\\envs\\Ambiente 1\\lib\\site-packages\\pandas\\core\\frame.py\u001b[0m in \u001b[0;36m__getitem__\u001b[1;34m(self, key)\u001b[0m\n\u001b[0;32m   2900\u001b[0m             \u001b[1;32mif\u001b[0m \u001b[0mself\u001b[0m\u001b[1;33m.\u001b[0m\u001b[0mcolumns\u001b[0m\u001b[1;33m.\u001b[0m\u001b[0mnlevels\u001b[0m \u001b[1;33m>\u001b[0m \u001b[1;36m1\u001b[0m\u001b[1;33m:\u001b[0m\u001b[1;33m\u001b[0m\u001b[1;33m\u001b[0m\u001b[0m\n\u001b[0;32m   2901\u001b[0m                 \u001b[1;32mreturn\u001b[0m \u001b[0mself\u001b[0m\u001b[1;33m.\u001b[0m\u001b[0m_getitem_multilevel\u001b[0m\u001b[1;33m(\u001b[0m\u001b[0mkey\u001b[0m\u001b[1;33m)\u001b[0m\u001b[1;33m\u001b[0m\u001b[1;33m\u001b[0m\u001b[0m\n\u001b[1;32m-> 2902\u001b[1;33m             \u001b[0mindexer\u001b[0m \u001b[1;33m=\u001b[0m \u001b[0mself\u001b[0m\u001b[1;33m.\u001b[0m\u001b[0mcolumns\u001b[0m\u001b[1;33m.\u001b[0m\u001b[0mget_loc\u001b[0m\u001b[1;33m(\u001b[0m\u001b[0mkey\u001b[0m\u001b[1;33m)\u001b[0m\u001b[1;33m\u001b[0m\u001b[1;33m\u001b[0m\u001b[0m\n\u001b[0m\u001b[0;32m   2903\u001b[0m             \u001b[1;32mif\u001b[0m \u001b[0mis_integer\u001b[0m\u001b[1;33m(\u001b[0m\u001b[0mindexer\u001b[0m\u001b[1;33m)\u001b[0m\u001b[1;33m:\u001b[0m\u001b[1;33m\u001b[0m\u001b[1;33m\u001b[0m\u001b[0m\n\u001b[0;32m   2904\u001b[0m                 \u001b[0mindexer\u001b[0m \u001b[1;33m=\u001b[0m \u001b[1;33m[\u001b[0m\u001b[0mindexer\u001b[0m\u001b[1;33m]\u001b[0m\u001b[1;33m\u001b[0m\u001b[1;33m\u001b[0m\u001b[0m\n",
      "\u001b[1;32m~\\anaconda3\\envs\\Ambiente 1\\lib\\site-packages\\pandas\\core\\indexes\\base.py\u001b[0m in \u001b[0;36mget_loc\u001b[1;34m(self, key, method, tolerance)\u001b[0m\n\u001b[0;32m   2895\u001b[0m                 \u001b[1;32mreturn\u001b[0m \u001b[0mself\u001b[0m\u001b[1;33m.\u001b[0m\u001b[0m_engine\u001b[0m\u001b[1;33m.\u001b[0m\u001b[0mget_loc\u001b[0m\u001b[1;33m(\u001b[0m\u001b[0mcasted_key\u001b[0m\u001b[1;33m)\u001b[0m\u001b[1;33m\u001b[0m\u001b[1;33m\u001b[0m\u001b[0m\n\u001b[0;32m   2896\u001b[0m             \u001b[1;32mexcept\u001b[0m \u001b[0mKeyError\u001b[0m \u001b[1;32mas\u001b[0m \u001b[0merr\u001b[0m\u001b[1;33m:\u001b[0m\u001b[1;33m\u001b[0m\u001b[1;33m\u001b[0m\u001b[0m\n\u001b[1;32m-> 2897\u001b[1;33m                 \u001b[1;32mraise\u001b[0m \u001b[0mKeyError\u001b[0m\u001b[1;33m(\u001b[0m\u001b[0mkey\u001b[0m\u001b[1;33m)\u001b[0m \u001b[1;32mfrom\u001b[0m \u001b[0merr\u001b[0m\u001b[1;33m\u001b[0m\u001b[1;33m\u001b[0m\u001b[0m\n\u001b[0m\u001b[0;32m   2898\u001b[0m \u001b[1;33m\u001b[0m\u001b[0m\n\u001b[0;32m   2899\u001b[0m         \u001b[1;32mif\u001b[0m \u001b[0mtolerance\u001b[0m \u001b[1;32mis\u001b[0m \u001b[1;32mnot\u001b[0m \u001b[1;32mNone\u001b[0m\u001b[1;33m:\u001b[0m\u001b[1;33m\u001b[0m\u001b[1;33m\u001b[0m\u001b[0m\n",
      "\u001b[1;31mKeyError\u001b[0m: 'num_posts'"
     ]
    }
   ],
   "source": [
    "# create a data frame slice\n",
    "sub_df = df[df['num_posts']=='COVID_19']\n",
    "\n",
    "# sample cleaned text and tokens tagged as nouns\n",
    "sub_df[['plain_text', 'selftext_nouns']].sample(2)"
   ]
  },
  {
   "cell_type": "markdown",
   "metadata": {},
   "source": [
    "### Creating a List of Tokens from a List of Documents"
   ]
  },
  {
   "cell_type": "code",
   "execution_count": null,
   "metadata": {},
   "outputs": [],
   "source": [
    "def my_tokenizer(text):\n",
    "    return text.split() if text != None else []"
   ]
  },
  {
   "cell_type": "code",
   "execution_count": null,
   "metadata": {},
   "outputs": [],
   "source": [
    "# transform list of documents into a single list of tokens\n",
    "tokens = sub_df.selftext_nouns.map(my_tokenizer).sum()"
   ]
  },
  {
   "cell_type": "code",
   "execution_count": null,
   "metadata": {
    "scrolled": true
   },
   "outputs": [],
   "source": [
    "print(tokens[:200])"
   ]
  },
  {
   "cell_type": "markdown",
   "metadata": {},
   "source": [
    "### Counting Frequencies with a Counter"
   ]
  },
  {
   "cell_type": "code",
   "execution_count": null,
   "metadata": {
    "ExecuteTime": {
     "end_time": "2019-01-06T19:54:03.085955Z",
     "start_time": "2019-01-06T19:54:03.064959Z"
    }
   },
   "outputs": [],
   "source": [
    "from collections import Counter\n",
    "\n",
    "counter = Counter(tokens)\n",
    "counter.most_common(20)"
   ]
  },
  {
   "cell_type": "code",
   "execution_count": null,
   "metadata": {},
   "outputs": [],
   "source": [
    "df.category.unique()"
   ]
  },
  {
   "cell_type": "code",
   "execution_count": null,
   "metadata": {},
   "outputs": [],
   "source": [
    "print([t[0] for t in counter.most_common(200)])   "
   ]
  },
  {
   "cell_type": "code",
   "execution_count": null,
   "metadata": {},
   "outputs": [],
   "source": [
    "from spacy.lang.en.stop_words import STOP_WORDS\n",
    "\n",
    "def remove_stopwords(tokens):\n",
    "    \"\"\"Remove stopwords from a list of tokens.\"\"\"\n",
    "    return [t for t in tokens if t not in STOP_WORDS]\n",
    "\n",
    "# rebuild counter\n",
    "counter = Counter(remove_stopwords(tokens))"
   ]
  },
  {
   "cell_type": "code",
   "execution_count": null,
   "metadata": {
    "ExecuteTime": {
     "end_time": "2019-01-06T19:54:03.085955Z",
     "start_time": "2019-01-06T19:54:03.064959Z"
    },
    "scrolled": false
   },
   "outputs": [],
   "source": [
    "# convert list of tuples into data frame\n",
    "freq_df = pd.DataFrame.from_records(counter.most_common(20),\n",
    "                                    columns=['token', 'count'])\n",
    "\n",
    "# create bar plot\n",
    "freq_df.plot(kind='bar', x='token');"
   ]
  },
  {
   "cell_type": "markdown",
   "metadata": {},
   "source": [
    "### Using Word Clouds"
   ]
  },
  {
   "cell_type": "code",
   "execution_count": null,
   "metadata": {
    "ExecuteTime": {
     "end_time": "2019-01-08T17:33:25.520265Z",
     "start_time": "2019-01-08T17:33:25.255249Z"
    }
   },
   "outputs": [],
   "source": [
    "%matplotlib inline\n",
    "import matplotlib.pyplot as plt"
   ]
  },
  {
   "cell_type": "code",
   "execution_count": null,
   "metadata": {
    "ExecuteTime": {
     "end_time": "2019-01-08T17:33:25.520265Z",
     "start_time": "2019-01-08T17:33:25.255249Z"
    }
   },
   "outputs": [],
   "source": [
    "from wordcloud import WordCloud\n",
    "\n",
    "def wordcloud(counter):\n",
    "    \"\"\"A small wordloud wrapper\"\"\"\n",
    "    wc = WordCloud(width=1200, height=800, \n",
    "                   background_color=\"white\", \n",
    "                   max_words=200) \n",
    "    wc.generate_from_frequencies(counter)\n",
    "\n",
    "    # Plot\n",
    "    fig=plt.figure(figsize=(6, 4))\n",
    "    plt.imshow(wc, interpolation='bilinear')\n",
    "    plt.axis(\"off\")\n",
    "    plt.tight_layout(pad=0)\n",
    "    plt.show()"
   ]
  },
  {
   "cell_type": "code",
   "execution_count": null,
   "metadata": {
    "ExecuteTime": {
     "end_time": "2019-01-08T17:33:25.520265Z",
     "start_time": "2019-01-08T17:33:25.255249Z"
    },
    "scrolled": false
   },
   "outputs": [],
   "source": [
    "# create wordcloud\n",
    "wordcloud(counter)"
   ]
  },
  {
   "cell_type": "markdown",
   "metadata": {
    "ExecuteTime": {
     "end_time": "2019-01-06T12:58:00.445138Z",
     "start_time": "2019-01-06T12:58:00.442135Z"
    }
   },
   "source": [
    "**Comparing to Sopranos**"
   ]
  },
  {
   "cell_type": "code",
   "execution_count": null,
   "metadata": {
    "ExecuteTime": {
     "end_time": "2019-01-06T12:58:23.771130Z",
     "start_time": "2019-01-06T12:58:22.171136Z"
    }
   },
   "outputs": [],
   "source": [
    "tokens2 = df[df['subreddit']=='thesopranos'].selftext_nouns \\\n",
    "         .map(my_tokenizer).sum()\n",
    "\n",
    "counter2 = Counter(remove_stopwords(tokens2))\n",
    "wordcloud(counter2)"
   ]
  },
  {
   "cell_type": "markdown",
   "metadata": {},
   "source": [
    "## Exploring Text Complexity\n"
   ]
  },
  {
   "cell_type": "code",
   "execution_count": null,
   "metadata": {
    "scrolled": false
   },
   "outputs": [],
   "source": [
    "df['no_tokens'] = df.selftext_lemma\\\n",
    "  .map(lambda l: 0 if l==None else len(l.split()))"
   ]
  },
  {
   "cell_type": "code",
   "execution_count": null,
   "metadata": {
    "scrolled": false
   },
   "outputs": [],
   "source": [
    "# mean number of tokens by category\n",
    "df.groupby(['category']) \\\n",
    "  .agg({'no_tokens':'mean'}) \\\n",
    "  .sort_values(by='no_tokens', ascending=False) \\\n",
    "  .plot(kind='bar', figsize=(7,4));"
   ]
  },
  {
   "cell_type": "code",
   "execution_count": null,
   "metadata": {
    "ExecuteTime": {
     "end_time": "2019-01-08T16:21:22.820851Z",
     "start_time": "2019-01-08T16:21:22.810881Z"
    }
   },
   "outputs": [],
   "source": [
    "# render plots as retina or png, because svg is very slow\n",
    "%config InlineBackend.figure_format = 'retina'\n",
    "\n",
    "import seaborn as sns\n",
    "\n",
    "def multi_boxplot(data, x, y, ylim = None):\n",
    "    '''Wrapper for sns boxplot with cut-off functionality'''\n",
    "    # plt.figure(figsize=(30, 5))\n",
    "    fig, ax = plt.subplots()\n",
    "    plt.xticks(rotation=90) \n",
    "\n",
    "    # order boxplots by median\n",
    "    ordered_values = data.groupby(x)[[y]] \\\n",
    "                         .median() \\\n",
    "                         .sort_values(y, ascending=False) \\\n",
    "                         .index\n",
    "        \n",
    "    sns.boxplot(x=x, y=y, data=data, palette='Set2', \n",
    "                order=ordered_values)\n",
    "\n",
    "    fig.set_size_inches(11, 6)\n",
    "    \n",
    "    # cut-off y-axis at value ylim\n",
    "    ax.set_ylim(0, ylim)"
   ]
  },
  {
   "cell_type": "code",
   "execution_count": null,
   "metadata": {
    "ExecuteTime": {
     "end_time": "2019-01-08T16:21:22.820851Z",
     "start_time": "2019-01-08T16:21:22.810881Z"
    }
   },
   "outputs": [],
   "source": [
    "multi_boxplot(df, 'category', 'no_tokens');"
   ]
  },
  {
   "cell_type": "code",
   "execution_count": null,
   "metadata": {},
   "outputs": [],
   "source": [
    "# print text of outliers\n",
    "df['selftext_lemma'][df.no_tokens > 1500]"
   ]
  },
  {
   "cell_type": "code",
   "execution_count": null,
   "metadata": {
    "ExecuteTime": {
     "end_time": "2019-01-08T16:21:22.820851Z",
     "start_time": "2019-01-08T16:21:22.810881Z"
    },
    "scrolled": false
   },
   "outputs": [],
   "source": [
    "# cut-off diagram at y=500\n",
    "multi_boxplot(df, 'category', 'no_tokens', ylim=500)"
   ]
  },
  {
   "cell_type": "code",
   "execution_count": null,
   "metadata": {
    "ExecuteTime": {
     "end_time": "2019-01-08T16:21:22.820851Z",
     "start_time": "2019-01-08T16:21:22.810881Z"
    },
    "scrolled": false
   },
   "outputs": [],
   "source": [
    "# comparing subreddits within a single category\n",
    "multi_boxplot(df[df.category=='sex/relationships'], \n",
    "              'subreddit', 'no_tokens', ylim=700)"
   ]
  }
 ],
 "metadata": {
  "kernelspec": {
   "display_name": "Python 3",
   "language": "python",
   "name": "python3"
  },
  "language_info": {
   "codemirror_mode": {
    "name": "ipython",
    "version": 3
   },
   "file_extension": ".py",
   "mimetype": "text/x-python",
   "name": "python",
   "nbconvert_exporter": "python",
   "pygments_lexer": "ipython3",
   "version": "3.8.5"
  },
  "toc": {
   "base_numbering": 1,
   "nav_menu": {},
   "number_sections": false,
   "sideBar": true,
   "skip_h1_title": true,
   "title_cell": "Table of Contents",
   "title_sidebar": "Contents",
   "toc_cell": true,
   "toc_position": {
    "height": "771.2px",
    "left": "30px",
    "top": "134.8px",
    "width": "204.313px"
   },
   "toc_section_display": true,
   "toc_window_display": true
  }
 },
 "nbformat": 4,
 "nbformat_minor": 2
}
